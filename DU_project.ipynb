{
 "cells": [
  {
   "cell_type": "markdown",
   "id": "great-galaxy",
   "metadata": {},
   "source": [
    "# Instructions:\n",
    "\n",
    "The aim of the project is to write a functional and structured code in python. This\n",
    "code should be able to make a prediction on the dataset Auto Insurance available\n",
    "on https://www.kaggle.com/c/auto-insurance-fall-2017/data of target TARGET_FLAG.\n",
    "This code should also explicitly return the value of the performance of the algorithms\n",
    "tested using the appropriate metric and generate a csv file with the predictions.\n",
    "Performance is not the main goal. The objective of the project is to write the main steps of\n",
    "a data science project in 2 hours with a proper style and well written comments.\n",
    "The code should be written in python files or ipython notebook using the\n",
    "appropriate libraries. We would rather have a link to a github repository."
   ]
  },
  {
   "cell_type": "markdown",
   "id": "conceptual-cancer",
   "metadata": {},
   "source": [
    "For each observation in the test set, we have to predict the **TARGET_FLAG** binary outcome, given a set of independent variables. Thus, this can be either a logistic regression problem or a classification. Let's first import the data."
   ]
  },
  {
   "cell_type": "code",
   "execution_count": 4,
   "id": "changed-dependence",
   "metadata": {},
   "outputs": [],
   "source": [
    "import numpy as np\n",
    "import pandas as pd\n",
    "import matplotlib.pyplot as plt\n",
    "%matplotlib inline\n",
    "import seaborn as sns\n",
    "import io"
   ]
  },
  {
   "cell_type": "code",
   "execution_count": 55,
   "id": "metropolitan-bullet",
   "metadata": {},
   "outputs": [],
   "source": [
    "train = pd.read_csv(r'https://raw.githubusercontent.com/Alexouu1/Descartes_Underwriting_Project/main/train_auto.csv')\n",
    "test = pd.read_csv(r\"https://raw.githubusercontent.com/Alexouu1/Descartes_Underwriting_Project/main/test_auto.csv\")"
   ]
  },
  {
   "cell_type": "code",
   "execution_count": 56,
   "id": "speaking-bride",
   "metadata": {},
   "outputs": [
    {
     "data": {
      "text/html": [
       "<div>\n",
       "<style scoped>\n",
       "    .dataframe tbody tr th:only-of-type {\n",
       "        vertical-align: middle;\n",
       "    }\n",
       "\n",
       "    .dataframe tbody tr th {\n",
       "        vertical-align: top;\n",
       "    }\n",
       "\n",
       "    .dataframe thead th {\n",
       "        text-align: right;\n",
       "    }\n",
       "</style>\n",
       "<table border=\"1\" class=\"dataframe\">\n",
       "  <thead>\n",
       "    <tr style=\"text-align: right;\">\n",
       "      <th></th>\n",
       "      <th>INDEX</th>\n",
       "      <th>TARGET_FLAG</th>\n",
       "      <th>TARGET_AMT</th>\n",
       "      <th>KIDSDRIV</th>\n",
       "      <th>AGE</th>\n",
       "      <th>HOMEKIDS</th>\n",
       "      <th>YOJ</th>\n",
       "      <th>INCOME</th>\n",
       "      <th>PARENT1</th>\n",
       "      <th>HOME_VAL</th>\n",
       "      <th>...</th>\n",
       "      <th>BLUEBOOK</th>\n",
       "      <th>TIF</th>\n",
       "      <th>CAR_TYPE</th>\n",
       "      <th>RED_CAR</th>\n",
       "      <th>OLDCLAIM</th>\n",
       "      <th>CLM_FREQ</th>\n",
       "      <th>REVOKED</th>\n",
       "      <th>MVR_PTS</th>\n",
       "      <th>CAR_AGE</th>\n",
       "      <th>URBANICITY</th>\n",
       "    </tr>\n",
       "  </thead>\n",
       "  <tbody>\n",
       "    <tr>\n",
       "      <th>0</th>\n",
       "      <td>1</td>\n",
       "      <td>0</td>\n",
       "      <td>0.0</td>\n",
       "      <td>0</td>\n",
       "      <td>60.0</td>\n",
       "      <td>0</td>\n",
       "      <td>11.0</td>\n",
       "      <td>$67,349</td>\n",
       "      <td>No</td>\n",
       "      <td>$0</td>\n",
       "      <td>...</td>\n",
       "      <td>$14,230</td>\n",
       "      <td>11</td>\n",
       "      <td>Minivan</td>\n",
       "      <td>yes</td>\n",
       "      <td>$4,461</td>\n",
       "      <td>2</td>\n",
       "      <td>No</td>\n",
       "      <td>3</td>\n",
       "      <td>18.0</td>\n",
       "      <td>Highly Urban/ Urban</td>\n",
       "    </tr>\n",
       "    <tr>\n",
       "      <th>1</th>\n",
       "      <td>2</td>\n",
       "      <td>0</td>\n",
       "      <td>0.0</td>\n",
       "      <td>0</td>\n",
       "      <td>43.0</td>\n",
       "      <td>0</td>\n",
       "      <td>11.0</td>\n",
       "      <td>$91,449</td>\n",
       "      <td>No</td>\n",
       "      <td>$257,252</td>\n",
       "      <td>...</td>\n",
       "      <td>$14,940</td>\n",
       "      <td>1</td>\n",
       "      <td>Minivan</td>\n",
       "      <td>yes</td>\n",
       "      <td>$0</td>\n",
       "      <td>0</td>\n",
       "      <td>No</td>\n",
       "      <td>0</td>\n",
       "      <td>1.0</td>\n",
       "      <td>Highly Urban/ Urban</td>\n",
       "    </tr>\n",
       "    <tr>\n",
       "      <th>2</th>\n",
       "      <td>4</td>\n",
       "      <td>0</td>\n",
       "      <td>0.0</td>\n",
       "      <td>0</td>\n",
       "      <td>35.0</td>\n",
       "      <td>1</td>\n",
       "      <td>10.0</td>\n",
       "      <td>$16,039</td>\n",
       "      <td>No</td>\n",
       "      <td>$124,191</td>\n",
       "      <td>...</td>\n",
       "      <td>$4,010</td>\n",
       "      <td>4</td>\n",
       "      <td>z_SUV</td>\n",
       "      <td>no</td>\n",
       "      <td>$38,690</td>\n",
       "      <td>2</td>\n",
       "      <td>No</td>\n",
       "      <td>3</td>\n",
       "      <td>10.0</td>\n",
       "      <td>Highly Urban/ Urban</td>\n",
       "    </tr>\n",
       "    <tr>\n",
       "      <th>3</th>\n",
       "      <td>5</td>\n",
       "      <td>0</td>\n",
       "      <td>0.0</td>\n",
       "      <td>0</td>\n",
       "      <td>51.0</td>\n",
       "      <td>0</td>\n",
       "      <td>14.0</td>\n",
       "      <td>NaN</td>\n",
       "      <td>No</td>\n",
       "      <td>$306,251</td>\n",
       "      <td>...</td>\n",
       "      <td>$15,440</td>\n",
       "      <td>7</td>\n",
       "      <td>Minivan</td>\n",
       "      <td>yes</td>\n",
       "      <td>$0</td>\n",
       "      <td>0</td>\n",
       "      <td>No</td>\n",
       "      <td>0</td>\n",
       "      <td>6.0</td>\n",
       "      <td>Highly Urban/ Urban</td>\n",
       "    </tr>\n",
       "    <tr>\n",
       "      <th>4</th>\n",
       "      <td>6</td>\n",
       "      <td>0</td>\n",
       "      <td>0.0</td>\n",
       "      <td>0</td>\n",
       "      <td>50.0</td>\n",
       "      <td>0</td>\n",
       "      <td>NaN</td>\n",
       "      <td>$114,986</td>\n",
       "      <td>No</td>\n",
       "      <td>$243,925</td>\n",
       "      <td>...</td>\n",
       "      <td>$18,000</td>\n",
       "      <td>1</td>\n",
       "      <td>z_SUV</td>\n",
       "      <td>no</td>\n",
       "      <td>$19,217</td>\n",
       "      <td>2</td>\n",
       "      <td>Yes</td>\n",
       "      <td>3</td>\n",
       "      <td>17.0</td>\n",
       "      <td>Highly Urban/ Urban</td>\n",
       "    </tr>\n",
       "  </tbody>\n",
       "</table>\n",
       "<p>5 rows × 26 columns</p>\n",
       "</div>"
      ],
      "text/plain": [
       "   INDEX  TARGET_FLAG  TARGET_AMT  KIDSDRIV   AGE  HOMEKIDS   YOJ    INCOME  \\\n",
       "0      1            0         0.0         0  60.0         0  11.0   $67,349   \n",
       "1      2            0         0.0         0  43.0         0  11.0   $91,449   \n",
       "2      4            0         0.0         0  35.0         1  10.0   $16,039   \n",
       "3      5            0         0.0         0  51.0         0  14.0       NaN   \n",
       "4      6            0         0.0         0  50.0         0   NaN  $114,986   \n",
       "\n",
       "  PARENT1  HOME_VAL  ... BLUEBOOK TIF CAR_TYPE RED_CAR  OLDCLAIM CLM_FREQ  \\\n",
       "0      No        $0  ...  $14,230  11  Minivan     yes    $4,461        2   \n",
       "1      No  $257,252  ...  $14,940   1  Minivan     yes        $0        0   \n",
       "2      No  $124,191  ...   $4,010   4    z_SUV      no   $38,690        2   \n",
       "3      No  $306,251  ...  $15,440   7  Minivan     yes        $0        0   \n",
       "4      No  $243,925  ...  $18,000   1    z_SUV      no   $19,217        2   \n",
       "\n",
       "  REVOKED  MVR_PTS CAR_AGE           URBANICITY  \n",
       "0      No        3    18.0  Highly Urban/ Urban  \n",
       "1      No        0     1.0  Highly Urban/ Urban  \n",
       "2      No        3    10.0  Highly Urban/ Urban  \n",
       "3      No        0     6.0  Highly Urban/ Urban  \n",
       "4     Yes        3    17.0  Highly Urban/ Urban  \n",
       "\n",
       "[5 rows x 26 columns]"
      ]
     },
     "execution_count": 56,
     "metadata": {},
     "output_type": "execute_result"
    }
   ],
   "source": [
    "train.head()"
   ]
  },
  {
   "cell_type": "code",
   "execution_count": 7,
   "id": "senior-swimming",
   "metadata": {},
   "outputs": [
    {
     "data": {
      "text/html": [
       "<div>\n",
       "<style scoped>\n",
       "    .dataframe tbody tr th:only-of-type {\n",
       "        vertical-align: middle;\n",
       "    }\n",
       "\n",
       "    .dataframe tbody tr th {\n",
       "        vertical-align: top;\n",
       "    }\n",
       "\n",
       "    .dataframe thead th {\n",
       "        text-align: right;\n",
       "    }\n",
       "</style>\n",
       "<table border=\"1\" class=\"dataframe\">\n",
       "  <thead>\n",
       "    <tr style=\"text-align: right;\">\n",
       "      <th></th>\n",
       "      <th>INDEX</th>\n",
       "      <th>TARGET_FLAG</th>\n",
       "      <th>TARGET_AMT</th>\n",
       "      <th>KIDSDRIV</th>\n",
       "      <th>AGE</th>\n",
       "      <th>HOMEKIDS</th>\n",
       "      <th>YOJ</th>\n",
       "      <th>INCOME</th>\n",
       "      <th>PARENT1</th>\n",
       "      <th>HOME_VAL</th>\n",
       "      <th>...</th>\n",
       "      <th>BLUEBOOK</th>\n",
       "      <th>TIF</th>\n",
       "      <th>CAR_TYPE</th>\n",
       "      <th>RED_CAR</th>\n",
       "      <th>OLDCLAIM</th>\n",
       "      <th>CLM_FREQ</th>\n",
       "      <th>REVOKED</th>\n",
       "      <th>MVR_PTS</th>\n",
       "      <th>CAR_AGE</th>\n",
       "      <th>URBANICITY</th>\n",
       "    </tr>\n",
       "  </thead>\n",
       "  <tbody>\n",
       "    <tr>\n",
       "      <th>0</th>\n",
       "      <td>3</td>\n",
       "      <td>NaN</td>\n",
       "      <td>NaN</td>\n",
       "      <td>0</td>\n",
       "      <td>48.0</td>\n",
       "      <td>0</td>\n",
       "      <td>11.0</td>\n",
       "      <td>$52,881</td>\n",
       "      <td>No</td>\n",
       "      <td>$0</td>\n",
       "      <td>...</td>\n",
       "      <td>$21,970</td>\n",
       "      <td>1</td>\n",
       "      <td>Van</td>\n",
       "      <td>yes</td>\n",
       "      <td>$0</td>\n",
       "      <td>0</td>\n",
       "      <td>No</td>\n",
       "      <td>2</td>\n",
       "      <td>10.0</td>\n",
       "      <td>Highly Urban/ Urban</td>\n",
       "    </tr>\n",
       "    <tr>\n",
       "      <th>1</th>\n",
       "      <td>9</td>\n",
       "      <td>NaN</td>\n",
       "      <td>NaN</td>\n",
       "      <td>1</td>\n",
       "      <td>40.0</td>\n",
       "      <td>1</td>\n",
       "      <td>11.0</td>\n",
       "      <td>$50,815</td>\n",
       "      <td>Yes</td>\n",
       "      <td>$0</td>\n",
       "      <td>...</td>\n",
       "      <td>$18,930</td>\n",
       "      <td>6</td>\n",
       "      <td>Minivan</td>\n",
       "      <td>no</td>\n",
       "      <td>$3,295</td>\n",
       "      <td>1</td>\n",
       "      <td>No</td>\n",
       "      <td>2</td>\n",
       "      <td>1.0</td>\n",
       "      <td>Highly Urban/ Urban</td>\n",
       "    </tr>\n",
       "    <tr>\n",
       "      <th>2</th>\n",
       "      <td>10</td>\n",
       "      <td>NaN</td>\n",
       "      <td>NaN</td>\n",
       "      <td>0</td>\n",
       "      <td>44.0</td>\n",
       "      <td>2</td>\n",
       "      <td>12.0</td>\n",
       "      <td>$43,486</td>\n",
       "      <td>Yes</td>\n",
       "      <td>$0</td>\n",
       "      <td>...</td>\n",
       "      <td>$5,900</td>\n",
       "      <td>10</td>\n",
       "      <td>z_SUV</td>\n",
       "      <td>no</td>\n",
       "      <td>$0</td>\n",
       "      <td>0</td>\n",
       "      <td>No</td>\n",
       "      <td>0</td>\n",
       "      <td>10.0</td>\n",
       "      <td>z_Highly Rural/ Rural</td>\n",
       "    </tr>\n",
       "    <tr>\n",
       "      <th>3</th>\n",
       "      <td>18</td>\n",
       "      <td>NaN</td>\n",
       "      <td>NaN</td>\n",
       "      <td>0</td>\n",
       "      <td>35.0</td>\n",
       "      <td>2</td>\n",
       "      <td>NaN</td>\n",
       "      <td>$21,204</td>\n",
       "      <td>Yes</td>\n",
       "      <td>$0</td>\n",
       "      <td>...</td>\n",
       "      <td>$9,230</td>\n",
       "      <td>6</td>\n",
       "      <td>Pickup</td>\n",
       "      <td>no</td>\n",
       "      <td>$0</td>\n",
       "      <td>0</td>\n",
       "      <td>Yes</td>\n",
       "      <td>0</td>\n",
       "      <td>4.0</td>\n",
       "      <td>z_Highly Rural/ Rural</td>\n",
       "    </tr>\n",
       "    <tr>\n",
       "      <th>4</th>\n",
       "      <td>21</td>\n",
       "      <td>NaN</td>\n",
       "      <td>NaN</td>\n",
       "      <td>0</td>\n",
       "      <td>59.0</td>\n",
       "      <td>0</td>\n",
       "      <td>12.0</td>\n",
       "      <td>$87,460</td>\n",
       "      <td>No</td>\n",
       "      <td>$0</td>\n",
       "      <td>...</td>\n",
       "      <td>$15,420</td>\n",
       "      <td>1</td>\n",
       "      <td>Minivan</td>\n",
       "      <td>yes</td>\n",
       "      <td>$44,857</td>\n",
       "      <td>2</td>\n",
       "      <td>No</td>\n",
       "      <td>4</td>\n",
       "      <td>1.0</td>\n",
       "      <td>Highly Urban/ Urban</td>\n",
       "    </tr>\n",
       "  </tbody>\n",
       "</table>\n",
       "<p>5 rows × 26 columns</p>\n",
       "</div>"
      ],
      "text/plain": [
       "   INDEX  TARGET_FLAG  TARGET_AMT  KIDSDRIV   AGE  HOMEKIDS   YOJ   INCOME  \\\n",
       "0      3          NaN         NaN         0  48.0         0  11.0  $52,881   \n",
       "1      9          NaN         NaN         1  40.0         1  11.0  $50,815   \n",
       "2     10          NaN         NaN         0  44.0         2  12.0  $43,486   \n",
       "3     18          NaN         NaN         0  35.0         2   NaN  $21,204   \n",
       "4     21          NaN         NaN         0  59.0         0  12.0  $87,460   \n",
       "\n",
       "  PARENT1 HOME_VAL  ... BLUEBOOK TIF CAR_TYPE RED_CAR  OLDCLAIM CLM_FREQ  \\\n",
       "0      No       $0  ...  $21,970   1      Van     yes        $0        0   \n",
       "1     Yes       $0  ...  $18,930   6  Minivan      no    $3,295        1   \n",
       "2     Yes       $0  ...   $5,900  10    z_SUV      no        $0        0   \n",
       "3     Yes       $0  ...   $9,230   6   Pickup      no        $0        0   \n",
       "4      No       $0  ...  $15,420   1  Minivan     yes   $44,857        2   \n",
       "\n",
       "  REVOKED  MVR_PTS CAR_AGE             URBANICITY  \n",
       "0      No        2    10.0    Highly Urban/ Urban  \n",
       "1      No        2     1.0    Highly Urban/ Urban  \n",
       "2      No        0    10.0  z_Highly Rural/ Rural  \n",
       "3     Yes        0     4.0  z_Highly Rural/ Rural  \n",
       "4      No        4     1.0    Highly Urban/ Urban  \n",
       "\n",
       "[5 rows x 26 columns]"
      ]
     },
     "execution_count": 7,
     "metadata": {},
     "output_type": "execute_result"
    }
   ],
   "source": [
    "test.head()"
   ]
  },
  {
   "cell_type": "code",
   "execution_count": 8,
   "id": "appropriate-rouge",
   "metadata": {},
   "outputs": [
    {
     "data": {
      "text/plain": [
       "True"
      ]
     },
     "execution_count": 8,
     "metadata": {},
     "output_type": "execute_result"
    }
   ],
   "source": [
    "test['TARGET_FLAG'].isnull().values.any()"
   ]
  },
  {
   "cell_type": "markdown",
   "id": "painful-diesel",
   "metadata": {},
   "source": [
    "Since the *TARGET_FLAG* variable is NaN here, this dataset cannot be used to tune our model since we will not be able to evaluate our predictions. We will keep this dataset for later though."
   ]
  },
  {
   "cell_type": "code",
   "execution_count": 9,
   "id": "stone-prediction",
   "metadata": {},
   "outputs": [],
   "source": [
    "predictions = test # simple renaming without hard copying the df.\n",
    "data = train # We will later split the data df into a traning and test set."
   ]
  },
  {
   "cell_type": "code",
   "execution_count": 10,
   "id": "chronic-trademark",
   "metadata": {},
   "outputs": [
    {
     "name": "stdout",
     "output_type": "stream",
     "text": [
      "<class 'pandas.core.frame.DataFrame'>\n",
      "RangeIndex: 8161 entries, 0 to 8160\n",
      "Data columns (total 26 columns):\n",
      " #   Column       Non-Null Count  Dtype  \n",
      "---  ------       --------------  -----  \n",
      " 0   INDEX        8161 non-null   int64  \n",
      " 1   TARGET_FLAG  8161 non-null   int64  \n",
      " 2   TARGET_AMT   8161 non-null   float64\n",
      " 3   KIDSDRIV     8161 non-null   int64  \n",
      " 4   AGE          8155 non-null   float64\n",
      " 5   HOMEKIDS     8161 non-null   int64  \n",
      " 6   YOJ          7707 non-null   float64\n",
      " 7   INCOME       7716 non-null   object \n",
      " 8   PARENT1      8161 non-null   object \n",
      " 9   HOME_VAL     7697 non-null   object \n",
      " 10  MSTATUS      8161 non-null   object \n",
      " 11  SEX          8161 non-null   object \n",
      " 12  EDUCATION    8161 non-null   object \n",
      " 13  JOB          7635 non-null   object \n",
      " 14  TRAVTIME     8161 non-null   int64  \n",
      " 15  CAR_USE      8161 non-null   object \n",
      " 16  BLUEBOOK     8161 non-null   object \n",
      " 17  TIF          8161 non-null   int64  \n",
      " 18  CAR_TYPE     8161 non-null   object \n",
      " 19  RED_CAR      8161 non-null   object \n",
      " 20  OLDCLAIM     8161 non-null   object \n",
      " 21  CLM_FREQ     8161 non-null   int64  \n",
      " 22  REVOKED      8161 non-null   object \n",
      " 23  MVR_PTS      8161 non-null   int64  \n",
      " 24  CAR_AGE      7651 non-null   float64\n",
      " 25  URBANICITY   8161 non-null   object \n",
      "dtypes: float64(4), int64(8), object(14)\n",
      "memory usage: 1.6+ MB\n"
     ]
    }
   ],
   "source": [
    "data.info()"
   ]
  },
  {
   "cell_type": "code",
   "execution_count": 11,
   "id": "executed-heather",
   "metadata": {},
   "outputs": [
    {
     "name": "stdout",
     "output_type": "stream",
     "text": [
      "variable : INDEX ; values : [    1     2     4 ... 10299 10301 10302]\n",
      "variable : TARGET_FLAG ; values : [0 1]\n",
      "variable : TARGET_AMT ; values : [   0.         2946.         4021.         ...  471.11545805 3135.\n",
      " 1815.205097  ]\n",
      "variable : KIDSDRIV ; values : [0 1 2 3 4]\n",
      "variable : AGE ; values : [60. 43. 35. 51. 50. 34. 54. 37. 53. 55. 45. 39. 42. 31. 28. 48. 47. 44.\n",
      " 33. 32. 40. 49. 52. 41. 56. 38. 63. 59. 46. 30. 29. 58. 36. 66. 61. 62.\n",
      " 80. 57. 64. nan 25. 27. 26. 20. 21. 19. 72. 69. 24. 67. 23. 65. 70. 22.\n",
      " 17. 16. 81. 73. 68. 18. 76.]\n",
      "variable : HOMEKIDS ; values : [0 1 2 3 4 5]\n",
      "variable : YOJ ; values : [11. 10. 14. nan 12.  7.  5.  0. 13.  9. 17.  8. 15. 16.  6. 18. 23.  3.\n",
      "  4.  2. 19.  1.]\n",
      "variable : INCOME ; values : ['$67,349' '$91,449' '$16,039' ... '$107,204' '$43,445' '$53,235']\n",
      "variable : PARENT1 ; values : ['No' 'Yes']\n",
      "variable : HOME_VAL ; values : ['$0' '$257,252' '$124,191' ... '$332,591' '$149,248' '$197,017']\n",
      "variable : MSTATUS ; values : ['z_No' 'Yes']\n",
      "variable : SEX ; values : ['M' 'z_F']\n",
      "variable : EDUCATION ; values : ['PhD' 'z_High School' '<High School' 'Bachelors' 'Masters']\n",
      "variable : JOB ; values : ['Professional' 'z_Blue Collar' 'Clerical' 'Doctor' 'Lawyer' 'Manager' nan\n",
      " 'Home Maker' 'Student']\n",
      "variable : TRAVTIME ; values : [ 14  22   5  32  36  46  33  44  34  48  15  25  64  43  42  27  29  52\n",
      "   8  26  16  30  37  12  38  65  18  47  10  40  62  35  20  50  24  13\n",
      "  31  28  11   9  49  61  21  23  59  17  63  53  54  60  39  45  69  55\n",
      "  73   7  41  58  81  19  57   6  83  56  51  68  75  84  70  67  72  79\n",
      "  76  78  74  66  88  71  90  86 113  80  98  77  93  82  87 124  85 142\n",
      "  95  92 134 103  97  91 101]\n",
      "variable : CAR_USE ; values : ['Private' 'Commercial']\n",
      "variable : BLUEBOOK ; values : ['$14,230' '$14,940' '$4,010' ... '$35,050' '$2,790' '$28,490']\n",
      "variable : TIF ; values : [11  1  4  7  6 10  9 17 18 13  3 16  5 12  8 14 22  2 20 15 19 25 21]\n",
      "variable : CAR_TYPE ; values : ['Minivan' 'z_SUV' 'Sports Car' 'Van' 'Panel Truck' 'Pickup']\n",
      "variable : RED_CAR ; values : ['yes' 'no']\n",
      "variable : OLDCLAIM ; values : ['$4,461' '$0' '$38,690' ... '$24,690' '$33,026' '$9,245']\n",
      "variable : CLM_FREQ ; values : [2 0 1 3 5 4]\n",
      "variable : REVOKED ; values : ['No' 'Yes']\n",
      "variable : MVR_PTS ; values : [ 3  0 10  1  5  2  4 13  6  7  8  9 11]\n",
      "variable : CAR_AGE ; values : [18.  1. 10.  6. 17.  7. 11.  9.  5. 13. 16. 20. 14. 15. 12.  8. nan  3.\n",
      " 21.  4. 19.  0. 23.  2. 22. 26. 27. 24. 25. -3. 28.]\n",
      "variable : URBANICITY ; values : ['Highly Urban/ Urban' 'z_Highly Rural/ Rural']\n"
     ]
    }
   ],
   "source": [
    "for col in data.columns:\n",
    "    list_categories = data[col].unique()\n",
    "    print(\"variable :\", col+ \" ; values :\",list_categories)"
   ]
  },
  {
   "cell_type": "markdown",
   "id": "amateur-auditor",
   "metadata": {},
   "source": [
    "# Types conversion\n",
    "\n",
    "There are several data types issues.\n",
    "INCOME, HOME_VAL, BLUEBOOK and OLDCLAIM variables are here categorical whereas they should be numerical (float). Conversions are thus need. We will apply these conversion to both our **data** and **predictions** DataFrames."
   ]
  },
  {
   "cell_type": "code",
   "execution_count": 12,
   "id": "moderate-bottle",
   "metadata": {},
   "outputs": [],
   "source": [
    "object_to_float = ['INCOME', 'HOME_VAL', 'BLUEBOOK', 'OLDCLAIM']\n",
    "data[object_to_float] = data[object_to_float].stack().str.replace(',','.').unstack() # this allow the following conversion to float.\n",
    "predictions[object_to_float] = predictions[object_to_float].stack().str.replace(',','.').unstack()\n",
    "for var in object_to_float:\n",
    "    data[var] = data[var].str[1:].astype(float) # removing dollar sign and then converting column to float\n",
    "    predictions[var] = predictions[var].str[1:].astype(float)"
   ]
  },
  {
   "cell_type": "markdown",
   "id": "pending-airline",
   "metadata": {},
   "source": [
    "In total, there are 26 columns/variables: 1 target variable (TARGET_FLAG) and 25 independent variables (only 24 if we drop the *index* variable which is of no use). Also, we should drop the *TARGET_AMT* (target amount) variable since TARGET_FLAG=0 when TARGET_AMT=0 and TARGET_FLAG=1 otherwise. The problem would thus be too simple if we had the TARGET_AMT values and that is why the entire TARGET_AMT column is NaN in the predictions set (see below)."
   ]
  },
  {
   "cell_type": "code",
   "execution_count": 13,
   "id": "beautiful-martin",
   "metadata": {},
   "outputs": [
    {
     "data": {
      "text/html": [
       "<div>\n",
       "<style scoped>\n",
       "    .dataframe tbody tr th:only-of-type {\n",
       "        vertical-align: middle;\n",
       "    }\n",
       "\n",
       "    .dataframe tbody tr th {\n",
       "        vertical-align: top;\n",
       "    }\n",
       "\n",
       "    .dataframe thead th {\n",
       "        text-align: right;\n",
       "    }\n",
       "</style>\n",
       "<table border=\"1\" class=\"dataframe\">\n",
       "  <thead>\n",
       "    <tr style=\"text-align: right;\">\n",
       "      <th></th>\n",
       "      <th>INDEX</th>\n",
       "      <th>TARGET_FLAG</th>\n",
       "      <th>TARGET_AMT</th>\n",
       "      <th>KIDSDRIV</th>\n",
       "      <th>AGE</th>\n",
       "      <th>HOMEKIDS</th>\n",
       "      <th>YOJ</th>\n",
       "      <th>INCOME</th>\n",
       "      <th>PARENT1</th>\n",
       "      <th>HOME_VAL</th>\n",
       "      <th>...</th>\n",
       "      <th>BLUEBOOK</th>\n",
       "      <th>TIF</th>\n",
       "      <th>CAR_TYPE</th>\n",
       "      <th>RED_CAR</th>\n",
       "      <th>OLDCLAIM</th>\n",
       "      <th>CLM_FREQ</th>\n",
       "      <th>REVOKED</th>\n",
       "      <th>MVR_PTS</th>\n",
       "      <th>CAR_AGE</th>\n",
       "      <th>URBANICITY</th>\n",
       "    </tr>\n",
       "  </thead>\n",
       "  <tbody>\n",
       "    <tr>\n",
       "      <th>0</th>\n",
       "      <td>3</td>\n",
       "      <td>NaN</td>\n",
       "      <td>NaN</td>\n",
       "      <td>0</td>\n",
       "      <td>48.0</td>\n",
       "      <td>0</td>\n",
       "      <td>11.0</td>\n",
       "      <td>52.881</td>\n",
       "      <td>No</td>\n",
       "      <td>0.0</td>\n",
       "      <td>...</td>\n",
       "      <td>21.97</td>\n",
       "      <td>1</td>\n",
       "      <td>Van</td>\n",
       "      <td>yes</td>\n",
       "      <td>0.000</td>\n",
       "      <td>0</td>\n",
       "      <td>No</td>\n",
       "      <td>2</td>\n",
       "      <td>10.0</td>\n",
       "      <td>Highly Urban/ Urban</td>\n",
       "    </tr>\n",
       "    <tr>\n",
       "      <th>1</th>\n",
       "      <td>9</td>\n",
       "      <td>NaN</td>\n",
       "      <td>NaN</td>\n",
       "      <td>1</td>\n",
       "      <td>40.0</td>\n",
       "      <td>1</td>\n",
       "      <td>11.0</td>\n",
       "      <td>50.815</td>\n",
       "      <td>Yes</td>\n",
       "      <td>0.0</td>\n",
       "      <td>...</td>\n",
       "      <td>18.93</td>\n",
       "      <td>6</td>\n",
       "      <td>Minivan</td>\n",
       "      <td>no</td>\n",
       "      <td>3.295</td>\n",
       "      <td>1</td>\n",
       "      <td>No</td>\n",
       "      <td>2</td>\n",
       "      <td>1.0</td>\n",
       "      <td>Highly Urban/ Urban</td>\n",
       "    </tr>\n",
       "    <tr>\n",
       "      <th>2</th>\n",
       "      <td>10</td>\n",
       "      <td>NaN</td>\n",
       "      <td>NaN</td>\n",
       "      <td>0</td>\n",
       "      <td>44.0</td>\n",
       "      <td>2</td>\n",
       "      <td>12.0</td>\n",
       "      <td>43.486</td>\n",
       "      <td>Yes</td>\n",
       "      <td>0.0</td>\n",
       "      <td>...</td>\n",
       "      <td>5.90</td>\n",
       "      <td>10</td>\n",
       "      <td>z_SUV</td>\n",
       "      <td>no</td>\n",
       "      <td>0.000</td>\n",
       "      <td>0</td>\n",
       "      <td>No</td>\n",
       "      <td>0</td>\n",
       "      <td>10.0</td>\n",
       "      <td>z_Highly Rural/ Rural</td>\n",
       "    </tr>\n",
       "    <tr>\n",
       "      <th>3</th>\n",
       "      <td>18</td>\n",
       "      <td>NaN</td>\n",
       "      <td>NaN</td>\n",
       "      <td>0</td>\n",
       "      <td>35.0</td>\n",
       "      <td>2</td>\n",
       "      <td>NaN</td>\n",
       "      <td>21.204</td>\n",
       "      <td>Yes</td>\n",
       "      <td>0.0</td>\n",
       "      <td>...</td>\n",
       "      <td>9.23</td>\n",
       "      <td>6</td>\n",
       "      <td>Pickup</td>\n",
       "      <td>no</td>\n",
       "      <td>0.000</td>\n",
       "      <td>0</td>\n",
       "      <td>Yes</td>\n",
       "      <td>0</td>\n",
       "      <td>4.0</td>\n",
       "      <td>z_Highly Rural/ Rural</td>\n",
       "    </tr>\n",
       "    <tr>\n",
       "      <th>4</th>\n",
       "      <td>21</td>\n",
       "      <td>NaN</td>\n",
       "      <td>NaN</td>\n",
       "      <td>0</td>\n",
       "      <td>59.0</td>\n",
       "      <td>0</td>\n",
       "      <td>12.0</td>\n",
       "      <td>87.460</td>\n",
       "      <td>No</td>\n",
       "      <td>0.0</td>\n",
       "      <td>...</td>\n",
       "      <td>15.42</td>\n",
       "      <td>1</td>\n",
       "      <td>Minivan</td>\n",
       "      <td>yes</td>\n",
       "      <td>44.857</td>\n",
       "      <td>2</td>\n",
       "      <td>No</td>\n",
       "      <td>4</td>\n",
       "      <td>1.0</td>\n",
       "      <td>Highly Urban/ Urban</td>\n",
       "    </tr>\n",
       "  </tbody>\n",
       "</table>\n",
       "<p>5 rows × 26 columns</p>\n",
       "</div>"
      ],
      "text/plain": [
       "   INDEX  TARGET_FLAG  TARGET_AMT  KIDSDRIV   AGE  HOMEKIDS   YOJ  INCOME  \\\n",
       "0      3          NaN         NaN         0  48.0         0  11.0  52.881   \n",
       "1      9          NaN         NaN         1  40.0         1  11.0  50.815   \n",
       "2     10          NaN         NaN         0  44.0         2  12.0  43.486   \n",
       "3     18          NaN         NaN         0  35.0         2   NaN  21.204   \n",
       "4     21          NaN         NaN         0  59.0         0  12.0  87.460   \n",
       "\n",
       "  PARENT1  HOME_VAL  ... BLUEBOOK TIF CAR_TYPE RED_CAR  OLDCLAIM CLM_FREQ  \\\n",
       "0      No       0.0  ...    21.97   1      Van     yes     0.000        0   \n",
       "1     Yes       0.0  ...    18.93   6  Minivan      no     3.295        1   \n",
       "2     Yes       0.0  ...     5.90  10    z_SUV      no     0.000        0   \n",
       "3     Yes       0.0  ...     9.23   6   Pickup      no     0.000        0   \n",
       "4      No       0.0  ...    15.42   1  Minivan     yes    44.857        2   \n",
       "\n",
       "   REVOKED  MVR_PTS CAR_AGE             URBANICITY  \n",
       "0       No        2    10.0    Highly Urban/ Urban  \n",
       "1       No        2     1.0    Highly Urban/ Urban  \n",
       "2       No        0    10.0  z_Highly Rural/ Rural  \n",
       "3      Yes        0     4.0  z_Highly Rural/ Rural  \n",
       "4       No        4     1.0    Highly Urban/ Urban  \n",
       "\n",
       "[5 rows x 26 columns]"
      ]
     },
     "execution_count": 13,
     "metadata": {},
     "output_type": "execute_result"
    }
   ],
   "source": [
    "predictions.head()"
   ]
  },
  {
   "cell_type": "code",
   "execution_count": 14,
   "id": "verbal-denial",
   "metadata": {},
   "outputs": [
    {
     "data": {
      "text/plain": [
       "True"
      ]
     },
     "execution_count": 14,
     "metadata": {},
     "output_type": "execute_result"
    }
   ],
   "source": [
    "predictions['TARGET_AMT'].isnull().all() #all TARGET_AMT values are NaN in the predictions DataFrame."
   ]
  },
  {
   "cell_type": "code",
   "execution_count": 16,
   "id": "satisfactory-warrior",
   "metadata": {},
   "outputs": [],
   "source": [
    "# Now dropping INDEX and TARGET_AMT column in both df:\n",
    "data.drop(['INDEX', 'TARGET_AMT'], axis = 1, inplace = True)\n",
    "predictions.drop(['INDEX', 'TARGET_AMT'], axis = 1, inplace = True)\n",
    "# We thus have 23 regressors left."
   ]
  },
  {
   "cell_type": "markdown",
   "id": "integrated-fundamental",
   "metadata": {},
   "source": [
    "# Outliers detection\n",
    "\n",
    "We are going to do this exploratory work on both **data** and **predictions** DataFrames."
   ]
  },
  {
   "cell_type": "markdown",
   "id": "turned-veteran",
   "metadata": {},
   "source": [
    "## For the **data** DataFrame"
   ]
  },
  {
   "cell_type": "code",
   "execution_count": 17,
   "id": "external-server",
   "metadata": {},
   "outputs": [
    {
     "data": {
      "image/png": "[encoded data removed]",
      "text/plain": [
       "<Figure size 1440x1080 with 16 Axes>"
      ]
     },
     "metadata": {
      "needs_background": "light"
     },
     "output_type": "display_data"
    }
   ],
   "source": [
    "# For numerical variables\n",
    "\n",
    "data.hist(bins=50, figsize=(20,15))\n",
    "plt.show()"
   ]
  },
  {
   "cell_type": "markdown",
   "id": "primary-republican",
   "metadata": {},
   "source": [
    "Note: \n",
    " \n",
    "1.   Zero for *HOME_VALUE* is not necessary an outlier, but it rather means the driver is not a homeowner.\n",
    "2.   Zero for *INCOME* means the driver is not employed."
   ]
  },
  {
   "cell_type": "code",
   "execution_count": 18,
   "id": "defensive-jefferson",
   "metadata": {},
   "outputs": [
    {
     "name": "stdout",
     "output_type": "stream",
     "text": [
      "Index(['PARENT1', 'MSTATUS', 'SEX', 'EDUCATION', 'JOB', 'CAR_USE', 'CAR_TYPE',\n",
      "       'RED_CAR', 'REVOKED', 'URBANICITY'],\n",
      "      dtype='object')\n"
     ]
    }
   ],
   "source": [
    "# For categorical variables:\n",
    "\n",
    "cat_col = data.select_dtypes(exclude = 'number').columns\n",
    "print(cat_col) # these are the categorical variables"
   ]
  },
  {
   "cell_type": "code",
   "execution_count": 19,
   "id": "crude-comfort",
   "metadata": {},
   "outputs": [
    {
     "data": {
      "image/png": "[encoded data removed]",
      "text/plain": [
       "<Figure size 432x288 with 1 Axes>"
      ]
     },
     "metadata": {
      "needs_background": "light"
     },
     "output_type": "display_data"
    },
    {
     "data": {
      "image/png": "[encoded data removed]",
      "text/plain": [
       "<Figure size 432x288 with 1 Axes>"
      ]
     },
     "metadata": {
      "needs_background": "light"
     },
     "output_type": "display_data"
    },
    {
     "data": {
      "image/png": "[encoded data removed]",
      "text/plain": [
       "<Figure size 432x288 with 1 Axes>"
      ]
     },
     "metadata": {
      "needs_background": "light"
     },
     "output_type": "display_data"
    },
    {
     "data": {
      "image/png": "[encoded data removed]",
      "text/plain": [
       "<Figure size 432x288 with 1 Axes>"
      ]
     },
     "metadata": {
      "needs_background": "light"
     },
     "output_type": "display_data"
    },
    {
     "data": {
      "image/png": "[encoded data removed]",
      "text/plain": [
       "<Figure size 432x288 with 1 Axes>"
      ]
     },
     "metadata": {
      "needs_background": "light"
     },
     "output_type": "display_data"
    },
    {
     "data": {
      "image/png": "[encoded data removed]",
      "text/plain": [
       "<Figure size 432x288 with 1 Axes>"
      ]
     },
     "metadata": {
      "needs_background": "light"
     },
     "output_type": "display_data"
    },
    {
     "data": {
      "image/png": "[encoded data removed]",
      "text/plain": [
       "<Figure size 432x288 with 1 Axes>"
      ]
     },
     "metadata": {
      "needs_background": "light"
     },
     "output_type": "display_data"
    },
    {
     "data": {
      "image/png": "[encoded data removed]",
      "text/plain": [
       "<Figure size 432x288 with 1 Axes>"
      ]
     },
     "metadata": {
      "needs_background": "light"
     },
     "output_type": "display_data"
    },
    {
     "data": {
      "image/png": "[encoded data removed]",
      "text/plain": [
       "<Figure size 432x288 with 1 Axes>"
      ]
     },
     "metadata": {
      "needs_background": "light"
     },
     "output_type": "display_data"
    },
    {
     "data": {
      "image/png": "[encoded data removed]",
      "text/plain": [
       "<Figure size 432x288 with 1 Axes>"
      ]
     },
     "metadata": {
      "needs_background": "light"
     },
     "output_type": "display_data"
    }
   ],
   "source": [
    "sns.countplot(x = 'PARENT1', data = data, palette = 'hls')\n",
    "plt.show()\n",
    "sns.countplot(x = 'MSTATUS', data = data, palette = 'hls')\n",
    "plt.show()\n",
    "sns.countplot(x = 'SEX', data = data, palette = 'hls')\n",
    "plt.show()\n",
    "sns.countplot(x = 'EDUCATION', data = data, palette = 'hls')\n",
    "plt.show()\n",
    "sns.countplot(x = 'JOB', data = data, palette = 'hls')\n",
    "plt.show()\n",
    "sns.countplot(x = 'CAR_USE', data = data, palette = 'hls')\n",
    "plt.show()\n",
    "sns.countplot(x = 'CAR_TYPE', data = data, palette = 'hls')\n",
    "plt.show()\n",
    "sns.countplot(x = 'RED_CAR', data = data, palette = 'hls')\n",
    "plt.show()\n",
    "sns.countplot(x = 'REVOKED', data = data, palette = 'hls')\n",
    "plt.show()\n",
    "sns.countplot(x = 'URBANICITY', data = data, palette = 'hls')\n",
    "plt.show()"
   ]
  },
  {
   "cell_type": "markdown",
   "id": "distributed-heaven",
   "metadata": {},
   "source": [
    "There does not seem to be any outlier here."
   ]
  },
  {
   "cell_type": "code",
   "execution_count": 20,
   "id": "renewable-ethics",
   "metadata": {},
   "outputs": [
    {
     "data": {
      "image/png": "[encoded data removed]",
      "text/plain": [
       "<Figure size 1440x1080 with 16 Axes>"
      ]
     },
     "metadata": {
      "needs_background": "light"
     },
     "output_type": "display_data"
    }
   ],
   "source": [
    "# For numerical variables\n",
    "\n",
    "predictions.hist(bins=50, figsize=(20,15))\n",
    "plt.show()"
   ]
  },
  {
   "cell_type": "code",
   "execution_count": 21,
   "id": "inappropriate-contest",
   "metadata": {},
   "outputs": [
    {
     "data": {
      "image/png": "[encoded data removed]",
      "text/plain": [
       "<Figure size 432x288 with 1 Axes>"
      ]
     },
     "metadata": {
      "needs_background": "light"
     },
     "output_type": "display_data"
    },
    {
     "data": {
      "image/png": "[encoded data removed]",
      "text/plain": [
       "<Figure size 432x288 with 1 Axes>"
      ]
     },
     "metadata": {
      "needs_background": "light"
     },
     "output_type": "display_data"
    },
    {
     "data": {
      "image/png": "[encoded data removed]",
      "text/plain": [
       "<Figure size 432x288 with 1 Axes>"
      ]
     },
     "metadata": {
      "needs_background": "light"
     },
     "output_type": "display_data"
    },
    {
     "data": {
      "image/png": "[encoded data removed]",
      "text/plain": [
       "<Figure size 432x288 with 1 Axes>"
      ]
     },
     "metadata": {
      "needs_background": "light"
     },
     "output_type": "display_data"
    },
    {
     "data": {
      "image/png": "[encoded data removed]",
      "text/plain": [
       "<Figure size 432x288 with 1 Axes>"
      ]
     },
     "metadata": {
      "needs_background": "light"
     },
     "output_type": "display_data"
    },
    {
     "data": {
      "image/png": "[encoded data removed]",
      "text/plain": [
       "<Figure size 432x288 with 1 Axes>"
      ]
     },
     "metadata": {
      "needs_background": "light"
     },
     "output_type": "display_data"
    },
    {
     "data": {
      "image/png": "[encoded data removed]",
      "text/plain": [
       "<Figure size 432x288 with 1 Axes>"
      ]
     },
     "metadata": {
      "needs_background": "light"
     },
     "output_type": "display_data"
    },
    {
     "data": {
      "image/png": "[encoded data removed]",
      "text/plain": [
       "<Figure size 432x288 with 1 Axes>"
      ]
     },
     "metadata": {
      "needs_background": "light"
     },
     "output_type": "display_data"
    },
    {
     "data": {
      "image/png": "[encoded data removed]",
      "text/plain": [
       "<Figure size 432x288 with 1 Axes>"
      ]
     },
     "metadata": {
      "needs_background": "light"
     },
     "output_type": "display_data"
    },
    {
     "data": {
      "image/png": "[encoded data removed]",
      "text/plain": [
       "<Figure size 432x288 with 1 Axes>"
      ]
     },
     "metadata": {
      "needs_background": "light"
     },
     "output_type": "display_data"
    }
   ],
   "source": [
    "sns.countplot(x = 'PARENT1', data = predictions, palette = 'hls')\n",
    "plt.show()\n",
    "sns.countplot(x = 'MSTATUS', data = predictions, palette = 'hls')\n",
    "plt.show()\n",
    "sns.countplot(x = 'SEX', data = predictions, palette = 'hls')\n",
    "plt.show()\n",
    "sns.countplot(x = 'EDUCATION', data = predictions, palette = 'hls')\n",
    "plt.show()\n",
    "sns.countplot(x = 'JOB', data = predictions, palette = 'hls')\n",
    "plt.show()\n",
    "sns.countplot(x = 'CAR_USE', data = predictions, palette = 'hls')\n",
    "plt.show()\n",
    "sns.countplot(x = 'CAR_TYPE', data = predictions, palette = 'hls')\n",
    "plt.show()\n",
    "sns.countplot(x = 'RED_CAR', data = predictions, palette = 'hls')\n",
    "plt.show()\n",
    "sns.countplot(x = 'REVOKED', data = predictions, palette = 'hls')\n",
    "plt.show()\n",
    "sns.countplot(x = 'URBANICITY', data = predictions, palette = 'hls')\n",
    "plt.show()"
   ]
  },
  {
   "cell_type": "markdown",
   "id": "spanish-aruba",
   "metadata": {},
   "source": [
    "There does not seem to be any outlier either."
   ]
  },
  {
   "cell_type": "markdown",
   "id": "suffering-disclosure",
   "metadata": {},
   "source": [
    "# Onto Scikit-Learn"
   ]
  },
  {
   "cell_type": "markdown",
   "id": "helpful-omega",
   "metadata": {},
   "source": [
    "## Logistic Regression\n",
    "The first ML algorithm we are going to implement using Scikit-Learn is logistic regression. But first, there are a couple transformations that need to be applied to our dataset/variables."
   ]
  },
  {
   "cell_type": "code",
   "execution_count": 22,
   "id": "baking-brazil",
   "metadata": {},
   "outputs": [],
   "source": [
    "data_lr = data.copy() #hard copy\n",
    "predictions_lr = predictions.copy()"
   ]
  },
  {
   "cell_type": "code",
   "execution_count": 45,
   "id": "superior-basement",
   "metadata": {},
   "outputs": [],
   "source": [
    "from sklearn.pipeline import Pipeline\n",
    "from sklearn.model_selection import train_test_split\n",
    "from sklearn.preprocessing import StandardScaler\n",
    "from sklearn.preprocessing import OneHotEncoder\n",
    "from sklearn.impute import SimpleImputer\n",
    "from sklearn.linear_model import LogisticRegression\n",
    "from sklearn.metrics import classification_report, confusion_matrix, roc_curve, auc, roc_auc_score\n",
    "from sklearn.compose import make_column_selector\n",
    "from sklearn.compose import make_column_transformer"
   ]
  },
  {
   "cell_type": "markdown",
   "id": "korean-turkey",
   "metadata": {},
   "source": [
    "### Splitting our data\n",
    "At this point, we shall split our **data** DataFrame into a training set and a test set."
   ]
  },
  {
   "cell_type": "code",
   "execution_count": 25,
   "id": "auburn-charter",
   "metadata": {},
   "outputs": [],
   "source": [
    "Xdata_lr = data_lr.iloc[:,1:]\n",
    "ydata_lr = data_lr.iloc[:,0]\n",
    "Xtrain_lr, Xtest_lr, ytrain_lr, ytest_lr = train_test_split(Xdata_lr, ydata_lr, test_size=0.2, random_state = 42)"
   ]
  },
  {
   "cell_type": "code",
   "execution_count": 26,
   "id": "sunrise-gregory",
   "metadata": {},
   "outputs": [
    {
     "data": {
      "text/html": [
       "<div>\n",
       "<style scoped>\n",
       "    .dataframe tbody tr th:only-of-type {\n",
       "        vertical-align: middle;\n",
       "    }\n",
       "\n",
       "    .dataframe tbody tr th {\n",
       "        vertical-align: top;\n",
       "    }\n",
       "\n",
       "    .dataframe thead th {\n",
       "        text-align: right;\n",
       "    }\n",
       "</style>\n",
       "<table border=\"1\" class=\"dataframe\">\n",
       "  <thead>\n",
       "    <tr style=\"text-align: right;\">\n",
       "      <th></th>\n",
       "      <th>KIDSDRIV</th>\n",
       "      <th>AGE</th>\n",
       "      <th>HOMEKIDS</th>\n",
       "      <th>YOJ</th>\n",
       "      <th>INCOME</th>\n",
       "      <th>HOME_VAL</th>\n",
       "      <th>TRAVTIME</th>\n",
       "      <th>BLUEBOOK</th>\n",
       "      <th>TIF</th>\n",
       "      <th>OLDCLAIM</th>\n",
       "      <th>CLM_FREQ</th>\n",
       "      <th>MVR_PTS</th>\n",
       "      <th>CAR_AGE</th>\n",
       "    </tr>\n",
       "  </thead>\n",
       "  <tbody>\n",
       "    <tr>\n",
       "      <th>3790</th>\n",
       "      <td>0</td>\n",
       "      <td>41.0</td>\n",
       "      <td>2</td>\n",
       "      <td>16.0</td>\n",
       "      <td>66.119</td>\n",
       "      <td>239.085</td>\n",
       "      <td>46</td>\n",
       "      <td>19.30</td>\n",
       "      <td>1</td>\n",
       "      <td>5.909</td>\n",
       "      <td>3</td>\n",
       "      <td>0</td>\n",
       "      <td>NaN</td>\n",
       "    </tr>\n",
       "    <tr>\n",
       "      <th>3779</th>\n",
       "      <td>1</td>\n",
       "      <td>45.0</td>\n",
       "      <td>2</td>\n",
       "      <td>15.0</td>\n",
       "      <td>64.916</td>\n",
       "      <td>232.064</td>\n",
       "      <td>57</td>\n",
       "      <td>21.27</td>\n",
       "      <td>1</td>\n",
       "      <td>958.000</td>\n",
       "      <td>1</td>\n",
       "      <td>2</td>\n",
       "      <td>12.0</td>\n",
       "    </tr>\n",
       "    <tr>\n",
       "      <th>7667</th>\n",
       "      <td>0</td>\n",
       "      <td>50.0</td>\n",
       "      <td>0</td>\n",
       "      <td>12.0</td>\n",
       "      <td>108.290</td>\n",
       "      <td>0.000</td>\n",
       "      <td>23</td>\n",
       "      <td>6.50</td>\n",
       "      <td>7</td>\n",
       "      <td>4.995</td>\n",
       "      <td>1</td>\n",
       "      <td>7</td>\n",
       "      <td>14.0</td>\n",
       "    </tr>\n",
       "    <tr>\n",
       "      <th>5562</th>\n",
       "      <td>0</td>\n",
       "      <td>40.0</td>\n",
       "      <td>0</td>\n",
       "      <td>9.0</td>\n",
       "      <td>103.903</td>\n",
       "      <td>0.000</td>\n",
       "      <td>57</td>\n",
       "      <td>15.02</td>\n",
       "      <td>6</td>\n",
       "      <td>8.921</td>\n",
       "      <td>1</td>\n",
       "      <td>6</td>\n",
       "      <td>14.0</td>\n",
       "    </tr>\n",
       "    <tr>\n",
       "      <th>1634</th>\n",
       "      <td>0</td>\n",
       "      <td>45.0</td>\n",
       "      <td>2</td>\n",
       "      <td>11.0</td>\n",
       "      <td>88.787</td>\n",
       "      <td>215.953</td>\n",
       "      <td>5</td>\n",
       "      <td>14.88</td>\n",
       "      <td>6</td>\n",
       "      <td>0.000</td>\n",
       "      <td>0</td>\n",
       "      <td>4</td>\n",
       "      <td>13.0</td>\n",
       "    </tr>\n",
       "    <tr>\n",
       "      <th>...</th>\n",
       "      <td>...</td>\n",
       "      <td>...</td>\n",
       "      <td>...</td>\n",
       "      <td>...</td>\n",
       "      <td>...</td>\n",
       "      <td>...</td>\n",
       "      <td>...</td>\n",
       "      <td>...</td>\n",
       "      <td>...</td>\n",
       "      <td>...</td>\n",
       "      <td>...</td>\n",
       "      <td>...</td>\n",
       "      <td>...</td>\n",
       "    </tr>\n",
       "    <tr>\n",
       "      <th>5226</th>\n",
       "      <td>0</td>\n",
       "      <td>41.0</td>\n",
       "      <td>3</td>\n",
       "      <td>11.0</td>\n",
       "      <td>88.426</td>\n",
       "      <td>0.000</td>\n",
       "      <td>9</td>\n",
       "      <td>14.44</td>\n",
       "      <td>4</td>\n",
       "      <td>6.193</td>\n",
       "      <td>3</td>\n",
       "      <td>2</td>\n",
       "      <td>5.0</td>\n",
       "    </tr>\n",
       "    <tr>\n",
       "      <th>5390</th>\n",
       "      <td>0</td>\n",
       "      <td>48.0</td>\n",
       "      <td>0</td>\n",
       "      <td>NaN</td>\n",
       "      <td>151.853</td>\n",
       "      <td>440.392</td>\n",
       "      <td>66</td>\n",
       "      <td>29.13</td>\n",
       "      <td>1</td>\n",
       "      <td>3.004</td>\n",
       "      <td>2</td>\n",
       "      <td>6</td>\n",
       "      <td>11.0</td>\n",
       "    </tr>\n",
       "    <tr>\n",
       "      <th>860</th>\n",
       "      <td>0</td>\n",
       "      <td>40.0</td>\n",
       "      <td>0</td>\n",
       "      <td>10.0</td>\n",
       "      <td>157.263</td>\n",
       "      <td>430.484</td>\n",
       "      <td>58</td>\n",
       "      <td>21.23</td>\n",
       "      <td>6</td>\n",
       "      <td>0.000</td>\n",
       "      <td>0</td>\n",
       "      <td>1</td>\n",
       "      <td>18.0</td>\n",
       "    </tr>\n",
       "    <tr>\n",
       "      <th>7603</th>\n",
       "      <td>0</td>\n",
       "      <td>50.0</td>\n",
       "      <td>0</td>\n",
       "      <td>14.0</td>\n",
       "      <td>60.854</td>\n",
       "      <td>NaN</td>\n",
       "      <td>28</td>\n",
       "      <td>28.33</td>\n",
       "      <td>10</td>\n",
       "      <td>607.000</td>\n",
       "      <td>3</td>\n",
       "      <td>4</td>\n",
       "      <td>7.0</td>\n",
       "    </tr>\n",
       "    <tr>\n",
       "      <th>7270</th>\n",
       "      <td>0</td>\n",
       "      <td>58.0</td>\n",
       "      <td>0</td>\n",
       "      <td>13.0</td>\n",
       "      <td>34.136</td>\n",
       "      <td>163.417</td>\n",
       "      <td>28</td>\n",
       "      <td>17.00</td>\n",
       "      <td>7</td>\n",
       "      <td>26.749</td>\n",
       "      <td>1</td>\n",
       "      <td>4</td>\n",
       "      <td>1.0</td>\n",
       "    </tr>\n",
       "  </tbody>\n",
       "</table>\n",
       "<p>6528 rows × 13 columns</p>\n",
       "</div>"
      ],
      "text/plain": [
       "      KIDSDRIV   AGE  HOMEKIDS   YOJ   INCOME  HOME_VAL  TRAVTIME  BLUEBOOK  \\\n",
       "3790         0  41.0         2  16.0   66.119   239.085        46     19.30   \n",
       "3779         1  45.0         2  15.0   64.916   232.064        57     21.27   \n",
       "7667         0  50.0         0  12.0  108.290     0.000        23      6.50   \n",
       "5562         0  40.0         0   9.0  103.903     0.000        57     15.02   \n",
       "1634         0  45.0         2  11.0   88.787   215.953         5     14.88   \n",
       "...        ...   ...       ...   ...      ...       ...       ...       ...   \n",
       "5226         0  41.0         3  11.0   88.426     0.000         9     14.44   \n",
       "5390         0  48.0         0   NaN  151.853   440.392        66     29.13   \n",
       "860          0  40.0         0  10.0  157.263   430.484        58     21.23   \n",
       "7603         0  50.0         0  14.0   60.854       NaN        28     28.33   \n",
       "7270         0  58.0         0  13.0   34.136   163.417        28     17.00   \n",
       "\n",
       "      TIF  OLDCLAIM  CLM_FREQ  MVR_PTS  CAR_AGE  \n",
       "3790    1     5.909         3        0      NaN  \n",
       "3779    1   958.000         1        2     12.0  \n",
       "7667    7     4.995         1        7     14.0  \n",
       "5562    6     8.921         1        6     14.0  \n",
       "1634    6     0.000         0        4     13.0  \n",
       "...   ...       ...       ...      ...      ...  \n",
       "5226    4     6.193         3        2      5.0  \n",
       "5390    1     3.004         2        6     11.0  \n",
       "860     6     0.000         0        1     18.0  \n",
       "7603   10   607.000         3        4      7.0  \n",
       "7270    7    26.749         1        4      1.0  \n",
       "\n",
       "[6528 rows x 13 columns]"
      ]
     },
     "execution_count": 26,
     "metadata": {},
     "output_type": "execute_result"
    }
   ],
   "source": [
    "numlist = Xtrain_lr.select_dtypes(include = np.number)\n",
    "numlist"
   ]
  },
  {
   "cell_type": "markdown",
   "id": "running-baseline",
   "metadata": {},
   "source": [
    "### Scikit-learn Pipeline construction"
   ]
  },
  {
   "cell_type": "code",
   "execution_count": 27,
   "id": "lined-musician",
   "metadata": {},
   "outputs": [],
   "source": [
    "numerical_features = make_column_selector(dtype_include = np.number)\n",
    "categorical_features = make_column_selector(dtype_exclude = np.number)"
   ]
  },
  {
   "cell_type": "code",
   "execution_count": 28,
   "id": "changing-conversation",
   "metadata": {},
   "outputs": [],
   "source": [
    "numerical_pipeline = Pipeline([('mean_imputer', SimpleImputer()), ('scaler', StandardScaler())])\n",
    "categorical_pipeline = Pipeline([('mode_imputer',SimpleImputer(strategy = 'most_frequent')), ('encoder',OneHotEncoder())])"
   ]
  },
  {
   "cell_type": "code",
   "execution_count": 29,
   "id": "instructional-telling",
   "metadata": {},
   "outputs": [],
   "source": [
    "preprocessor = make_column_transformer((numerical_pipeline, numerical_features), (categorical_pipeline, categorical_features))"
   ]
  },
  {
   "cell_type": "markdown",
   "id": "danish-narrow",
   "metadata": {},
   "source": [
    "### Logistic model fitting"
   ]
  },
  {
   "cell_type": "code",
   "execution_count": 30,
   "id": "comparative-despite",
   "metadata": {},
   "outputs": [
    {
     "data": {
      "text/plain": [
       "Pipeline(steps=[('prep',\n",
       "                 ColumnTransformer(transformers=[('pipeline-1',\n",
       "                                                  Pipeline(steps=[('mean_imputer',\n",
       "                                                                   SimpleImputer()),\n",
       "                                                                  ('scaler',\n",
       "                                                                   StandardScaler())]),\n",
       "                                                  <sklearn.compose._column_transformer.make_column_selector object at 0x0000027A48979D30>),\n",
       "                                                 ('pipeline-2',\n",
       "                                                  Pipeline(steps=[('mode_imputer',\n",
       "                                                                   SimpleImputer(strategy='most_frequent')),\n",
       "                                                                  ('encoder',\n",
       "                                                                   OneHotEncoder())]),\n",
       "                                                  <sklearn.compose._column_transformer.make_column_selector object at 0x0000027A48979F40>)])),\n",
       "                ('log_reg', LogisticRegression(penalty='none'))])"
      ]
     },
     "execution_count": 30,
     "metadata": {},
     "output_type": "execute_result"
    }
   ],
   "source": [
    "model_lr = Pipeline([('prep', preprocessor), ('log_reg', LogisticRegression(penalty = 'none'))])\n",
    "model_lr.fit(Xtrain_lr, ytrain_lr)"
   ]
  },
  {
   "cell_type": "markdown",
   "id": "bigger-rotation",
   "metadata": {},
   "source": [
    "### Model predictions"
   ]
  },
  {
   "cell_type": "code",
   "execution_count": 31,
   "id": "vital-canyon",
   "metadata": {},
   "outputs": [
    {
     "data": {
      "text/plain": [
       "array([0, 0, 0, ..., 0, 0, 0], dtype=int64)"
      ]
     },
     "execution_count": 31,
     "metadata": {},
     "output_type": "execute_result"
    }
   ],
   "source": [
    "y_test_predicted = model_lr.predict(Xtest_lr)\n",
    "y_test_predicted"
   ]
  },
  {
   "cell_type": "code",
   "execution_count": 32,
   "id": "adjacent-construction",
   "metadata": {},
   "outputs": [
    {
     "name": "stdout",
     "output_type": "stream",
     "text": [
      "[[   0    1]\n",
      " [1377  256]]\n"
     ]
    }
   ],
   "source": [
    "unique_elements, counts_elements = np.unique(y_test_predicted, return_counts=True)\n",
    "print(np.asarray((unique_elements, counts_elements)))"
   ]
  },
  {
   "cell_type": "code",
   "execution_count": 42,
   "id": "framed-segment",
   "metadata": {},
   "outputs": [
    {
     "data": {
      "text/plain": [
       "array([[1113,   76],\n",
       "       [ 264,  180]], dtype=int64)"
      ]
     },
     "execution_count": 42,
     "metadata": {},
     "output_type": "execute_result"
    }
   ],
   "source": [
    "conf_matrix = confusion_matrix(ytest_lr, y_test_predicted)\n",
    "conf_matrix"
   ]
  },
  {
   "cell_type": "markdown",
   "id": "economic-history",
   "metadata": {},
   "source": [
    "Interpretation of the confusion matrix:\n",
    "There are 1113 True Positive\n",
    "There are 180 True Negative\n",
    "There are 76 False Positive\n",
    "There are 264 False Negative\n",
    "As a consequence, we have 1113+180=1293 predictions right and 76+264=340 predictions wrong."
   ]
  },
  {
   "cell_type": "code",
   "execution_count": 64,
   "id": "close-settle",
   "metadata": {},
   "outputs": [
    {
     "name": "stdout",
     "output_type": "stream",
     "text": [
      "              precision    recall  f1-score   support\n",
      "\n",
      "           0       0.81      0.94      0.87      1189\n",
      "           1       0.70      0.41      0.51       444\n",
      "\n",
      "    accuracy                           0.79      1633\n",
      "   macro avg       0.76      0.67      0.69      1633\n",
      "weighted avg       0.78      0.79      0.77      1633\n",
      "\n"
     ]
    }
   ],
   "source": [
    "class_report = classification_report(ytest_lr, y_test_predicted)\n",
    "print(class_report)"
   ]
  },
  {
   "cell_type": "markdown",
   "id": "attempted-truck",
   "metadata": {},
   "source": [
    "Note:\n",
    "Precision = TP/(TP + FP)\n",
    "Recall = TP/(TP + FN)"
   ]
  },
  {
   "cell_type": "code",
   "execution_count": 35,
   "id": "virgin-public",
   "metadata": {},
   "outputs": [
    {
     "data": {
      "text/plain": [
       "0.7893688725490197"
      ]
     },
     "execution_count": 35,
     "metadata": {},
     "output_type": "execute_result"
    }
   ],
   "source": [
    "score_train = model_lr.score(Xtrain_lr, ytrain_lr)\n",
    "score_train"
   ]
  },
  {
   "cell_type": "code",
   "execution_count": 36,
   "id": "english-probability",
   "metadata": {},
   "outputs": [
    {
     "data": {
      "text/plain": [
       "0.7917942437232088"
      ]
     },
     "execution_count": 36,
     "metadata": {},
     "output_type": "execute_result"
    }
   ],
   "source": [
    "score_test = model_lr.score(Xtest_lr, ytest_lr)\n",
    "score_test"
   ]
  },
  {
   "cell_type": "code",
   "execution_count": 37,
   "id": "lesbian-retrieval",
   "metadata": {},
   "outputs": [],
   "source": [
    "Xpred_lr = predictions_lr.iloc[:,1:]\n",
    "y_pred_estimated = model_lr.predict(Xpred_lr)"
   ]
  },
  {
   "cell_type": "code",
   "execution_count": 38,
   "id": "unavailable-summary",
   "metadata": {},
   "outputs": [],
   "source": [
    "predictions_lr['TARGET_FLAG'] = y_pred_estimated"
   ]
  },
  {
   "cell_type": "code",
   "execution_count": 39,
   "id": "improving-buffalo",
   "metadata": {},
   "outputs": [
    {
     "data": {
      "text/html": [
       "<div>\n",
       "<style scoped>\n",
       "    .dataframe tbody tr th:only-of-type {\n",
       "        vertical-align: middle;\n",
       "    }\n",
       "\n",
       "    .dataframe tbody tr th {\n",
       "        vertical-align: top;\n",
       "    }\n",
       "\n",
       "    .dataframe thead th {\n",
       "        text-align: right;\n",
       "    }\n",
       "</style>\n",
       "<table border=\"1\" class=\"dataframe\">\n",
       "  <thead>\n",
       "    <tr style=\"text-align: right;\">\n",
       "      <th></th>\n",
       "      <th>TARGET_FLAG</th>\n",
       "      <th>KIDSDRIV</th>\n",
       "      <th>AGE</th>\n",
       "      <th>HOMEKIDS</th>\n",
       "      <th>YOJ</th>\n",
       "      <th>INCOME</th>\n",
       "      <th>PARENT1</th>\n",
       "      <th>HOME_VAL</th>\n",
       "      <th>MSTATUS</th>\n",
       "      <th>SEX</th>\n",
       "      <th>...</th>\n",
       "      <th>BLUEBOOK</th>\n",
       "      <th>TIF</th>\n",
       "      <th>CAR_TYPE</th>\n",
       "      <th>RED_CAR</th>\n",
       "      <th>OLDCLAIM</th>\n",
       "      <th>CLM_FREQ</th>\n",
       "      <th>REVOKED</th>\n",
       "      <th>MVR_PTS</th>\n",
       "      <th>CAR_AGE</th>\n",
       "      <th>URBANICITY</th>\n",
       "    </tr>\n",
       "  </thead>\n",
       "  <tbody>\n",
       "    <tr>\n",
       "      <th>0</th>\n",
       "      <td>0</td>\n",
       "      <td>0</td>\n",
       "      <td>48.0</td>\n",
       "      <td>0</td>\n",
       "      <td>11.0</td>\n",
       "      <td>52.881</td>\n",
       "      <td>No</td>\n",
       "      <td>0.0</td>\n",
       "      <td>z_No</td>\n",
       "      <td>M</td>\n",
       "      <td>...</td>\n",
       "      <td>21.97</td>\n",
       "      <td>1</td>\n",
       "      <td>Van</td>\n",
       "      <td>yes</td>\n",
       "      <td>0.000</td>\n",
       "      <td>0</td>\n",
       "      <td>No</td>\n",
       "      <td>2</td>\n",
       "      <td>10.0</td>\n",
       "      <td>Highly Urban/ Urban</td>\n",
       "    </tr>\n",
       "    <tr>\n",
       "      <th>1</th>\n",
       "      <td>0</td>\n",
       "      <td>1</td>\n",
       "      <td>40.0</td>\n",
       "      <td>1</td>\n",
       "      <td>11.0</td>\n",
       "      <td>50.815</td>\n",
       "      <td>Yes</td>\n",
       "      <td>0.0</td>\n",
       "      <td>z_No</td>\n",
       "      <td>M</td>\n",
       "      <td>...</td>\n",
       "      <td>18.93</td>\n",
       "      <td>6</td>\n",
       "      <td>Minivan</td>\n",
       "      <td>no</td>\n",
       "      <td>3.295</td>\n",
       "      <td>1</td>\n",
       "      <td>No</td>\n",
       "      <td>2</td>\n",
       "      <td>1.0</td>\n",
       "      <td>Highly Urban/ Urban</td>\n",
       "    </tr>\n",
       "    <tr>\n",
       "      <th>2</th>\n",
       "      <td>0</td>\n",
       "      <td>0</td>\n",
       "      <td>44.0</td>\n",
       "      <td>2</td>\n",
       "      <td>12.0</td>\n",
       "      <td>43.486</td>\n",
       "      <td>Yes</td>\n",
       "      <td>0.0</td>\n",
       "      <td>z_No</td>\n",
       "      <td>z_F</td>\n",
       "      <td>...</td>\n",
       "      <td>5.90</td>\n",
       "      <td>10</td>\n",
       "      <td>z_SUV</td>\n",
       "      <td>no</td>\n",
       "      <td>0.000</td>\n",
       "      <td>0</td>\n",
       "      <td>No</td>\n",
       "      <td>0</td>\n",
       "      <td>10.0</td>\n",
       "      <td>z_Highly Rural/ Rural</td>\n",
       "    </tr>\n",
       "    <tr>\n",
       "      <th>3</th>\n",
       "      <td>0</td>\n",
       "      <td>0</td>\n",
       "      <td>35.0</td>\n",
       "      <td>2</td>\n",
       "      <td>NaN</td>\n",
       "      <td>21.204</td>\n",
       "      <td>Yes</td>\n",
       "      <td>0.0</td>\n",
       "      <td>z_No</td>\n",
       "      <td>M</td>\n",
       "      <td>...</td>\n",
       "      <td>9.23</td>\n",
       "      <td>6</td>\n",
       "      <td>Pickup</td>\n",
       "      <td>no</td>\n",
       "      <td>0.000</td>\n",
       "      <td>0</td>\n",
       "      <td>Yes</td>\n",
       "      <td>0</td>\n",
       "      <td>4.0</td>\n",
       "      <td>z_Highly Rural/ Rural</td>\n",
       "    </tr>\n",
       "    <tr>\n",
       "      <th>4</th>\n",
       "      <td>0</td>\n",
       "      <td>0</td>\n",
       "      <td>59.0</td>\n",
       "      <td>0</td>\n",
       "      <td>12.0</td>\n",
       "      <td>87.460</td>\n",
       "      <td>No</td>\n",
       "      <td>0.0</td>\n",
       "      <td>z_No</td>\n",
       "      <td>M</td>\n",
       "      <td>...</td>\n",
       "      <td>15.42</td>\n",
       "      <td>1</td>\n",
       "      <td>Minivan</td>\n",
       "      <td>yes</td>\n",
       "      <td>44.857</td>\n",
       "      <td>2</td>\n",
       "      <td>No</td>\n",
       "      <td>4</td>\n",
       "      <td>1.0</td>\n",
       "      <td>Highly Urban/ Urban</td>\n",
       "    </tr>\n",
       "  </tbody>\n",
       "</table>\n",
       "<p>5 rows × 24 columns</p>\n",
       "</div>"
      ],
      "text/plain": [
       "   TARGET_FLAG  KIDSDRIV   AGE  HOMEKIDS   YOJ  INCOME PARENT1  HOME_VAL  \\\n",
       "0            0         0  48.0         0  11.0  52.881      No       0.0   \n",
       "1            0         1  40.0         1  11.0  50.815     Yes       0.0   \n",
       "2            0         0  44.0         2  12.0  43.486     Yes       0.0   \n",
       "3            0         0  35.0         2   NaN  21.204     Yes       0.0   \n",
       "4            0         0  59.0         0  12.0  87.460      No       0.0   \n",
       "\n",
       "  MSTATUS  SEX  ... BLUEBOOK TIF  CAR_TYPE RED_CAR  OLDCLAIM  CLM_FREQ  \\\n",
       "0    z_No    M  ...    21.97   1       Van     yes     0.000         0   \n",
       "1    z_No    M  ...    18.93   6   Minivan      no     3.295         1   \n",
       "2    z_No  z_F  ...     5.90  10     z_SUV      no     0.000         0   \n",
       "3    z_No    M  ...     9.23   6    Pickup      no     0.000         0   \n",
       "4    z_No    M  ...    15.42   1   Minivan     yes    44.857         2   \n",
       "\n",
       "  REVOKED MVR_PTS  CAR_AGE             URBANICITY  \n",
       "0      No       2     10.0    Highly Urban/ Urban  \n",
       "1      No       2      1.0    Highly Urban/ Urban  \n",
       "2      No       0     10.0  z_Highly Rural/ Rural  \n",
       "3     Yes       0      4.0  z_Highly Rural/ Rural  \n",
       "4      No       4      1.0    Highly Urban/ Urban  \n",
       "\n",
       "[5 rows x 24 columns]"
      ]
     },
     "execution_count": 39,
     "metadata": {},
     "output_type": "execute_result"
    }
   ],
   "source": [
    "predictions_lr.head()"
   ]
  },
  {
   "cell_type": "code",
   "execution_count": 41,
   "id": "unknown-manhattan",
   "metadata": {},
   "outputs": [],
   "source": [
    "#predictions_lr.to_csv(r'C:\\Users\\Alexandre\\Documents\\DU\\csv\\log_reg_predictions.csv', index = False)"
   ]
  },
  {
   "cell_type": "markdown",
   "id": "coordinate-edward",
   "metadata": {},
   "source": [
    "### ROC curve"
   ]
  },
  {
   "cell_type": "code",
   "execution_count": 47,
   "id": "crucial-experiment",
   "metadata": {},
   "outputs": [],
   "source": [
    "probs = model_lr.predict_proba(Xtest_lr)\n",
    "# keep probabilities for the positive outcome only\n",
    "probs = probs[:,1]"
   ]
  },
  {
   "cell_type": "code",
   "execution_count": 48,
   "id": "musical-union",
   "metadata": {},
   "outputs": [],
   "source": [
    "#calculating score\n",
    "log_reg_auc = roc_auc_score(ytest_lr, probs)"
   ]
  },
  {
   "cell_type": "code",
   "execution_count": 51,
   "id": "downtown-matrix",
   "metadata": {},
   "outputs": [
    {
     "name": "stdout",
     "output_type": "stream",
     "text": [
      "Logistic: ROC AUC= 0.8127505133392434\n"
     ]
    }
   ],
   "source": [
    "#summarizing the score\n",
    "print('Logistic: ROC AUC=', (log_reg_auc))"
   ]
  },
  {
   "cell_type": "code",
   "execution_count": 52,
   "id": "boxed-anderson",
   "metadata": {},
   "outputs": [],
   "source": [
    "# roc curve\n",
    "log_reg_fpr, log_reg_tpr, _ = roc_curve(ytest_lr, probs)"
   ]
  },
  {
   "cell_type": "code",
   "execution_count": 78,
   "id": "improved-hello",
   "metadata": {},
   "outputs": [
    {
     "data": {
      "text/plain": [
       "Text(0, 0.5, 'True Positive Rate')"
      ]
     },
     "execution_count": 78,
     "metadata": {},
     "output_type": "execute_result"
    },
    {
     "data": {
      "image/png": "[encoded data removed]",
      "text/plain": [
       "<Figure size 432x288 with 1 Axes>"
      ]
     },
     "metadata": {
      "needs_background": "light"
     },
     "output_type": "display_data"
    }
   ],
   "source": [
    "plt.plot(log_reg_fpr, log_reg_tpr, marker='.', label='Log_reg')\n",
    "plt.legend(bbox_to_anchor=(1.05, 1), loc='upper left', borderaxespad=0.)\n",
    "plt.xlabel('False Positive Rate')\n",
    "plt.ylabel('True Positive Rate')"
   ]
  },
  {
   "cell_type": "markdown",
   "id": "veterinary-canberra",
   "metadata": {},
   "source": [
    "## Decision tree classification"
   ]
  },
  {
   "cell_type": "code",
   "execution_count": 68,
   "id": "yellow-fraction",
   "metadata": {},
   "outputs": [],
   "source": [
    "predictions_tree = predictions.copy()"
   ]
  },
  {
   "cell_type": "code",
   "execution_count": 57,
   "id": "driving-dover",
   "metadata": {},
   "outputs": [],
   "source": [
    "from sklearn.tree import DecisionTreeClassifier\n",
    "from sklearn.tree import export_graphviz"
   ]
  },
  {
   "cell_type": "code",
   "execution_count": 58,
   "id": "latest-village",
   "metadata": {},
   "outputs": [
    {
     "data": {
      "text/plain": [
       "Pipeline(steps=[('prep',\n",
       "                 ColumnTransformer(transformers=[('pipeline-1',\n",
       "                                                  Pipeline(steps=[('mean_imputer',\n",
       "                                                                   SimpleImputer()),\n",
       "                                                                  ('scaler',\n",
       "                                                                   StandardScaler())]),\n",
       "                                                  <sklearn.compose._column_transformer.make_column_selector object at 0x0000027A48979D30>),\n",
       "                                                 ('pipeline-2',\n",
       "                                                  Pipeline(steps=[('mode_imputer',\n",
       "                                                                   SimpleImputer(strategy='most_frequent')),\n",
       "                                                                  ('encoder',\n",
       "                                                                   OneHotEncoder())]),\n",
       "                                                  <sklearn.compose._column_transformer.make_column_selector object at 0x0000027A48979F40>)])),\n",
       "                ('tree_clf', DecisionTreeClassifier(max_depth=6))])"
      ]
     },
     "execution_count": 58,
     "metadata": {},
     "output_type": "execute_result"
    }
   ],
   "source": [
    "model_tree = Pipeline([('prep', preprocessor), ('tree_clf', DecisionTreeClassifier(max_depth = 6))])\n",
    "model_tree.fit(Xtrain_lr, ytrain_lr)"
   ]
  },
  {
   "cell_type": "markdown",
   "id": "objective-chorus",
   "metadata": {},
   "source": [
    "f = open(r\"C:\\Users\\Alexandre\\Documents\\DU\\tree.png\", 'w')\n",
    "export_graphviz(\n",
    "    model_tree,\n",
    "    out_file = f,\n",
    "    feature_names = Xtrain_lr.columns.tolist(),\n",
    "    class_names = list(map(str, ytrain_lr.unique())),\n",
    "    rounded = True,\n",
    "    filled = True)"
   ]
  },
  {
   "cell_type": "code",
   "execution_count": 60,
   "id": "horizontal-williams",
   "metadata": {},
   "outputs": [
    {
     "data": {
      "text/plain": [
       "array([0, 0, 0, ..., 0, 0, 0], dtype=int64)"
      ]
     },
     "execution_count": 60,
     "metadata": {},
     "output_type": "execute_result"
    }
   ],
   "source": [
    "y_test_predicted_tree = model_tree.predict(Xtest_lr)\n",
    "y_test_predicted_tree"
   ]
  },
  {
   "cell_type": "code",
   "execution_count": 61,
   "id": "critical-adobe",
   "metadata": {},
   "outputs": [
    {
     "name": "stdout",
     "output_type": "stream",
     "text": [
      "[[   0    1]\n",
      " [1350  283]]\n"
     ]
    }
   ],
   "source": [
    "unique_elements_tree, counts_elements_tree = np.unique(y_test_predicted_tree, return_counts=True)\n",
    "print(np.asarray((unique_elements_tree, counts_elements_tree)))"
   ]
  },
  {
   "cell_type": "code",
   "execution_count": 62,
   "id": "occasional-stuff",
   "metadata": {},
   "outputs": [
    {
     "data": {
      "text/plain": [
       "array([[1059,  130],\n",
       "       [ 291,  153]], dtype=int64)"
      ]
     },
     "execution_count": 62,
     "metadata": {},
     "output_type": "execute_result"
    }
   ],
   "source": [
    "conf_matrix_tree = confusion_matrix(ytest_lr, y_test_predicted_tree)\n",
    "conf_matrix_tree"
   ]
  },
  {
   "cell_type": "markdown",
   "id": "mighty-swaziland",
   "metadata": {},
   "source": [
    "Interpretation of the confusion matrix:\n",
    "There are 1059 True Positive\n",
    "There are 153 True Negative\n",
    "There are 130 False Positive\n",
    "There are 291 False Negative\n",
    "As a consequence, we have 1059+153=1212 predictions right and 130+291=421 predictions wrong."
   ]
  },
  {
   "cell_type": "code",
   "execution_count": 65,
   "id": "seeing-display",
   "metadata": {},
   "outputs": [
    {
     "name": "stdout",
     "output_type": "stream",
     "text": [
      "              precision    recall  f1-score   support\n",
      "\n",
      "           0       0.78      0.89      0.83      1189\n",
      "           1       0.54      0.34      0.42       444\n",
      "\n",
      "    accuracy                           0.74      1633\n",
      "   macro avg       0.66      0.62      0.63      1633\n",
      "weighted avg       0.72      0.74      0.72      1633\n",
      "\n"
     ]
    }
   ],
   "source": [
    "class_report_tree = classification_report(ytest_lr, y_test_predicted_tree)\n",
    "print(class_report_tree)"
   ]
  },
  {
   "cell_type": "code",
   "execution_count": 66,
   "id": "twenty-conservative",
   "metadata": {},
   "outputs": [
    {
     "data": {
      "text/plain": [
       "0.7832414215686274"
      ]
     },
     "execution_count": 66,
     "metadata": {},
     "output_type": "execute_result"
    }
   ],
   "source": [
    "score_train_tree = model_tree.score(Xtrain_lr, ytrain_lr)\n",
    "score_train_tree"
   ]
  },
  {
   "cell_type": "code",
   "execution_count": 67,
   "id": "recognized-richards",
   "metadata": {},
   "outputs": [
    {
     "data": {
      "text/plain": [
       "0.7421922841396204"
      ]
     },
     "execution_count": 67,
     "metadata": {},
     "output_type": "execute_result"
    }
   ],
   "source": [
    "score_test_tree = model_tree.score(Xtest_lr, ytest_lr)\n",
    "score_test_tree"
   ]
  },
  {
   "cell_type": "code",
   "execution_count": 69,
   "id": "unlikely-spirituality",
   "metadata": {},
   "outputs": [],
   "source": [
    "Xpred_lr = predictions_tree.iloc[:,1:]\n",
    "y_pred_estimated_tree = model_tree.predict(Xpred_lr)\n",
    "predictions_tree['TARGET_FLAG'] = y_pred_estimated_tree"
   ]
  },
  {
   "cell_type": "code",
   "execution_count": 70,
   "id": "centered-truth",
   "metadata": {},
   "outputs": [
    {
     "data": {
      "text/html": [
       "<div>\n",
       "<style scoped>\n",
       "    .dataframe tbody tr th:only-of-type {\n",
       "        vertical-align: middle;\n",
       "    }\n",
       "\n",
       "    .dataframe tbody tr th {\n",
       "        vertical-align: top;\n",
       "    }\n",
       "\n",
       "    .dataframe thead th {\n",
       "        text-align: right;\n",
       "    }\n",
       "</style>\n",
       "<table border=\"1\" class=\"dataframe\">\n",
       "  <thead>\n",
       "    <tr style=\"text-align: right;\">\n",
       "      <th></th>\n",
       "      <th>TARGET_FLAG</th>\n",
       "      <th>KIDSDRIV</th>\n",
       "      <th>AGE</th>\n",
       "      <th>HOMEKIDS</th>\n",
       "      <th>YOJ</th>\n",
       "      <th>INCOME</th>\n",
       "      <th>PARENT1</th>\n",
       "      <th>HOME_VAL</th>\n",
       "      <th>MSTATUS</th>\n",
       "      <th>SEX</th>\n",
       "      <th>...</th>\n",
       "      <th>BLUEBOOK</th>\n",
       "      <th>TIF</th>\n",
       "      <th>CAR_TYPE</th>\n",
       "      <th>RED_CAR</th>\n",
       "      <th>OLDCLAIM</th>\n",
       "      <th>CLM_FREQ</th>\n",
       "      <th>REVOKED</th>\n",
       "      <th>MVR_PTS</th>\n",
       "      <th>CAR_AGE</th>\n",
       "      <th>URBANICITY</th>\n",
       "    </tr>\n",
       "  </thead>\n",
       "  <tbody>\n",
       "    <tr>\n",
       "      <th>0</th>\n",
       "      <td>0</td>\n",
       "      <td>0</td>\n",
       "      <td>48.0</td>\n",
       "      <td>0</td>\n",
       "      <td>11.0</td>\n",
       "      <td>52.881</td>\n",
       "      <td>No</td>\n",
       "      <td>0.0</td>\n",
       "      <td>z_No</td>\n",
       "      <td>M</td>\n",
       "      <td>...</td>\n",
       "      <td>21.97</td>\n",
       "      <td>1</td>\n",
       "      <td>Van</td>\n",
       "      <td>yes</td>\n",
       "      <td>0.000</td>\n",
       "      <td>0</td>\n",
       "      <td>No</td>\n",
       "      <td>2</td>\n",
       "      <td>10.0</td>\n",
       "      <td>Highly Urban/ Urban</td>\n",
       "    </tr>\n",
       "    <tr>\n",
       "      <th>1</th>\n",
       "      <td>0</td>\n",
       "      <td>1</td>\n",
       "      <td>40.0</td>\n",
       "      <td>1</td>\n",
       "      <td>11.0</td>\n",
       "      <td>50.815</td>\n",
       "      <td>Yes</td>\n",
       "      <td>0.0</td>\n",
       "      <td>z_No</td>\n",
       "      <td>M</td>\n",
       "      <td>...</td>\n",
       "      <td>18.93</td>\n",
       "      <td>6</td>\n",
       "      <td>Minivan</td>\n",
       "      <td>no</td>\n",
       "      <td>3.295</td>\n",
       "      <td>1</td>\n",
       "      <td>No</td>\n",
       "      <td>2</td>\n",
       "      <td>1.0</td>\n",
       "      <td>Highly Urban/ Urban</td>\n",
       "    </tr>\n",
       "    <tr>\n",
       "      <th>2</th>\n",
       "      <td>0</td>\n",
       "      <td>0</td>\n",
       "      <td>44.0</td>\n",
       "      <td>2</td>\n",
       "      <td>12.0</td>\n",
       "      <td>43.486</td>\n",
       "      <td>Yes</td>\n",
       "      <td>0.0</td>\n",
       "      <td>z_No</td>\n",
       "      <td>z_F</td>\n",
       "      <td>...</td>\n",
       "      <td>5.90</td>\n",
       "      <td>10</td>\n",
       "      <td>z_SUV</td>\n",
       "      <td>no</td>\n",
       "      <td>0.000</td>\n",
       "      <td>0</td>\n",
       "      <td>No</td>\n",
       "      <td>0</td>\n",
       "      <td>10.0</td>\n",
       "      <td>z_Highly Rural/ Rural</td>\n",
       "    </tr>\n",
       "    <tr>\n",
       "      <th>3</th>\n",
       "      <td>0</td>\n",
       "      <td>0</td>\n",
       "      <td>35.0</td>\n",
       "      <td>2</td>\n",
       "      <td>NaN</td>\n",
       "      <td>21.204</td>\n",
       "      <td>Yes</td>\n",
       "      <td>0.0</td>\n",
       "      <td>z_No</td>\n",
       "      <td>M</td>\n",
       "      <td>...</td>\n",
       "      <td>9.23</td>\n",
       "      <td>6</td>\n",
       "      <td>Pickup</td>\n",
       "      <td>no</td>\n",
       "      <td>0.000</td>\n",
       "      <td>0</td>\n",
       "      <td>Yes</td>\n",
       "      <td>0</td>\n",
       "      <td>4.0</td>\n",
       "      <td>z_Highly Rural/ Rural</td>\n",
       "    </tr>\n",
       "    <tr>\n",
       "      <th>4</th>\n",
       "      <td>0</td>\n",
       "      <td>0</td>\n",
       "      <td>59.0</td>\n",
       "      <td>0</td>\n",
       "      <td>12.0</td>\n",
       "      <td>87.460</td>\n",
       "      <td>No</td>\n",
       "      <td>0.0</td>\n",
       "      <td>z_No</td>\n",
       "      <td>M</td>\n",
       "      <td>...</td>\n",
       "      <td>15.42</td>\n",
       "      <td>1</td>\n",
       "      <td>Minivan</td>\n",
       "      <td>yes</td>\n",
       "      <td>44.857</td>\n",
       "      <td>2</td>\n",
       "      <td>No</td>\n",
       "      <td>4</td>\n",
       "      <td>1.0</td>\n",
       "      <td>Highly Urban/ Urban</td>\n",
       "    </tr>\n",
       "  </tbody>\n",
       "</table>\n",
       "<p>5 rows × 24 columns</p>\n",
       "</div>"
      ],
      "text/plain": [
       "   TARGET_FLAG  KIDSDRIV   AGE  HOMEKIDS   YOJ  INCOME PARENT1  HOME_VAL  \\\n",
       "0            0         0  48.0         0  11.0  52.881      No       0.0   \n",
       "1            0         1  40.0         1  11.0  50.815     Yes       0.0   \n",
       "2            0         0  44.0         2  12.0  43.486     Yes       0.0   \n",
       "3            0         0  35.0         2   NaN  21.204     Yes       0.0   \n",
       "4            0         0  59.0         0  12.0  87.460      No       0.0   \n",
       "\n",
       "  MSTATUS  SEX  ... BLUEBOOK TIF  CAR_TYPE RED_CAR  OLDCLAIM  CLM_FREQ  \\\n",
       "0    z_No    M  ...    21.97   1       Van     yes     0.000         0   \n",
       "1    z_No    M  ...    18.93   6   Minivan      no     3.295         1   \n",
       "2    z_No  z_F  ...     5.90  10     z_SUV      no     0.000         0   \n",
       "3    z_No    M  ...     9.23   6    Pickup      no     0.000         0   \n",
       "4    z_No    M  ...    15.42   1   Minivan     yes    44.857         2   \n",
       "\n",
       "  REVOKED MVR_PTS  CAR_AGE             URBANICITY  \n",
       "0      No       2     10.0    Highly Urban/ Urban  \n",
       "1      No       2      1.0    Highly Urban/ Urban  \n",
       "2      No       0     10.0  z_Highly Rural/ Rural  \n",
       "3     Yes       0      4.0  z_Highly Rural/ Rural  \n",
       "4      No       4      1.0    Highly Urban/ Urban  \n",
       "\n",
       "[5 rows x 24 columns]"
      ]
     },
     "execution_count": 70,
     "metadata": {},
     "output_type": "execute_result"
    }
   ],
   "source": [
    "predictions_tree.head()"
   ]
  },
  {
   "cell_type": "code",
   "execution_count": 71,
   "id": "legislative-fishing",
   "metadata": {},
   "outputs": [],
   "source": [
    "#predictions_tree.to_csv(r'C:\\Users\\Alexandre\\Documents\\DU\\csv\\decision_tree_predictions.csv', index = False)"
   ]
  },
  {
   "cell_type": "markdown",
   "id": "baking-spine",
   "metadata": {},
   "source": [
    "### Roc Curve"
   ]
  },
  {
   "cell_type": "code",
   "execution_count": 72,
   "id": "backed-painting",
   "metadata": {},
   "outputs": [],
   "source": [
    "probs_tree = model_tree.predict_proba(Xtest_lr)\n",
    "# keep probabilities for the positive outcome only\n",
    "probs_tree = probs_tree[:,1]"
   ]
  },
  {
   "cell_type": "code",
   "execution_count": 73,
   "id": "undefined-isolation",
   "metadata": {},
   "outputs": [],
   "source": [
    "#calculating score\n",
    "tree_auc = roc_auc_score(ytest_lr, probs_tree)"
   ]
  },
  {
   "cell_type": "code",
   "execution_count": 74,
   "id": "copyrighted-exclusive",
   "metadata": {},
   "outputs": [
    {
     "name": "stdout",
     "output_type": "stream",
     "text": [
      "Decision Tree: ROC AUC= 0.7539940066222656\n"
     ]
    }
   ],
   "source": [
    "#summarizing the score\n",
    "print('Decision Tree: ROC AUC=', (tree_auc))"
   ]
  },
  {
   "cell_type": "code",
   "execution_count": 75,
   "id": "binary-force",
   "metadata": {},
   "outputs": [],
   "source": [
    "# roc curve\n",
    "tree_fpr, tree_tpr, _ = roc_curve(ytest_lr, probs_tree)"
   ]
  },
  {
   "cell_type": "code",
   "execution_count": 79,
   "id": "lucky-tension",
   "metadata": {},
   "outputs": [
    {
     "data": {
      "text/plain": [
       "Text(0, 0.5, 'True Positive Rate')"
      ]
     },
     "execution_count": 79,
     "metadata": {},
     "output_type": "execute_result"
    },
    {
     "data": {
      "image/png": "[encoded data removed]",
      "text/plain": [
       "<Figure size 432x288 with 1 Axes>"
      ]
     },
     "metadata": {
      "needs_background": "light"
     },
     "output_type": "display_data"
    }
   ],
   "source": [
    "plt.plot(tree_fpr, tree_tpr, marker='.', label='Decision Tree')\n",
    "plt.plot(log_reg_fpr, log_reg_tpr, marker='.', label='Log_reg')\n",
    "plt.legend(bbox_to_anchor=(1.05, 1), loc='upper left', borderaxespad=0.)\n",
    "plt.xlabel('False Positive Rate')\n",
    "plt.ylabel('True Positive Rate')"
   ]
  },
  {
   "cell_type": "markdown",
   "id": "brazilian-humidity",
   "metadata": {},
   "source": [
    "# k-Nearest Neighbors"
   ]
  },
  {
   "cell_type": "code",
   "execution_count": 80,
   "id": "sharp-nashville",
   "metadata": {},
   "outputs": [],
   "source": [
    "from sklearn.neighbors import KNeighborsClassifier\n",
    "from sklearn import neighbors"
   ]
  },
  {
   "cell_type": "code",
   "execution_count": 81,
   "id": "third-effects",
   "metadata": {},
   "outputs": [],
   "source": [
    "predictions_knn = predictions.copy()"
   ]
  },
  {
   "cell_type": "code",
   "execution_count": 84,
   "id": "adjustable-blame",
   "metadata": {},
   "outputs": [
    {
     "data": {
      "text/plain": [
       "3790    1\n",
       "3779    0\n",
       "7667    0\n",
       "5562    1\n",
       "1634    0\n",
       "       ..\n",
       "5226    0\n",
       "5390    0\n",
       "860     0\n",
       "7603    1\n",
       "7270    0\n",
       "Name: TARGET_FLAG, Length: 6528, dtype: int64"
      ]
     },
     "execution_count": 84,
     "metadata": {},
     "output_type": "execute_result"
    }
   ],
   "source": [
    "ytrain_lr"
   ]
  },
  {
   "cell_type": "code",
   "execution_count": 85,
   "id": "iraqi-lying",
   "metadata": {},
   "outputs": [
    {
     "data": {
      "text/plain": [
       "Pipeline(steps=[('prep',\n",
       "                 ColumnTransformer(transformers=[('pipeline-1',\n",
       "                                                  Pipeline(steps=[('mean_imputer',\n",
       "                                                                   SimpleImputer()),\n",
       "                                                                  ('scaler',\n",
       "                                                                   StandardScaler())]),\n",
       "                                                  <sklearn.compose._column_transformer.make_column_selector object at 0x0000027A48979D30>),\n",
       "                                                 ('pipeline-2',\n",
       "                                                  Pipeline(steps=[('mode_imputer',\n",
       "                                                                   SimpleImputer(strategy='most_frequent')),\n",
       "                                                                  ('encoder',\n",
       "                                                                   OneHotEncoder())]),\n",
       "                                                  <sklearn.compose._column_transformer.make_column_selector object at 0x0000027A48979F40>)])),\n",
       "                ('knn_clf', KNeighborsClassifier())])"
      ]
     },
     "execution_count": 85,
     "metadata": {},
     "output_type": "execute_result"
    }
   ],
   "source": [
    "model_knn = Pipeline([('prep', preprocessor), ('knn_clf', KNeighborsClassifier())]) # k=5 by default\n",
    "model_knn.fit(Xtrain_lr, ytrain_lr)"
   ]
  },
  {
   "cell_type": "code",
   "execution_count": 86,
   "id": "preceding-blink",
   "metadata": {},
   "outputs": [
    {
     "data": {
      "text/plain": [
       "array([1, 0, 0, ..., 0, 0, 0], dtype=int64)"
      ]
     },
     "execution_count": 86,
     "metadata": {},
     "output_type": "execute_result"
    }
   ],
   "source": [
    "y_test_predicted_knn = model_knn.predict(Xtest_lr)\n",
    "y_test_predicted_knn"
   ]
  },
  {
   "cell_type": "code",
   "execution_count": 87,
   "id": "stuffed-leave",
   "metadata": {},
   "outputs": [
    {
     "name": "stdout",
     "output_type": "stream",
     "text": [
      "[[   0    1]\n",
      " [1362  271]]\n"
     ]
    }
   ],
   "source": [
    "unique_elements_knn, counts_elements_knn = np.unique(y_test_predicted_knn, return_counts=True)\n",
    "print(np.asarray((unique_elements_knn, counts_elements_knn)))"
   ]
  },
  {
   "cell_type": "code",
   "execution_count": 90,
   "id": "funded-brand",
   "metadata": {},
   "outputs": [
    {
     "data": {
      "text/plain": [
       "array([[1066,  123],\n",
       "       [ 296,  148]], dtype=int64)"
      ]
     },
     "execution_count": 90,
     "metadata": {},
     "output_type": "execute_result"
    }
   ],
   "source": [
    "conf_matrix_knn = confusion_matrix(ytest_lr, y_test_predicted_knn)\n",
    "conf_matrix_knn"
   ]
  },
  {
   "cell_type": "markdown",
   "id": "arabic-bread",
   "metadata": {},
   "source": [
    "Interpretation of the confusion matrix:\n",
    "There are 1066 True Positive\n",
    "There are 148 True Negative\n",
    "There are 123 False Positive\n",
    "There are 296 False Negative\n",
    "As a consequence, we have 1066+148=1214 predictions right and 123+296=419 predictions wrong."
   ]
  },
  {
   "cell_type": "code",
   "execution_count": 91,
   "id": "impressive-petite",
   "metadata": {},
   "outputs": [
    {
     "name": "stdout",
     "output_type": "stream",
     "text": [
      "              precision    recall  f1-score   support\n",
      "\n",
      "           0       0.78      0.90      0.84      1189\n",
      "           1       0.55      0.33      0.41       444\n",
      "\n",
      "    accuracy                           0.74      1633\n",
      "   macro avg       0.66      0.61      0.62      1633\n",
      "weighted avg       0.72      0.74      0.72      1633\n",
      "\n"
     ]
    }
   ],
   "source": [
    "class_report_knn = classification_report(ytest_lr, y_test_predicted_knn)\n",
    "print(class_report_knn)"
   ]
  },
  {
   "cell_type": "code",
   "execution_count": 88,
   "id": "circular-surrey",
   "metadata": {},
   "outputs": [
    {
     "data": {
      "text/plain": [
       "0.8287377450980392"
      ]
     },
     "execution_count": 88,
     "metadata": {},
     "output_type": "execute_result"
    }
   ],
   "source": [
    "score_train_knn = model_knn.score(Xtrain_lr, ytrain_lr)\n",
    "score_train_knn"
   ]
  },
  {
   "cell_type": "code",
   "execution_count": 89,
   "id": "decent-gilbert",
   "metadata": {},
   "outputs": [
    {
     "data": {
      "text/plain": [
       "0.743417023882425"
      ]
     },
     "execution_count": 89,
     "metadata": {},
     "output_type": "execute_result"
    }
   ],
   "source": [
    "score_test_knn = model_knn.score(Xtest_lr, ytest_lr)\n",
    "score_test_knn"
   ]
  },
  {
   "cell_type": "code",
   "execution_count": 92,
   "id": "authentic-costa",
   "metadata": {},
   "outputs": [],
   "source": [
    "Xpred_lr = predictions_knn.iloc[:,1:]\n",
    "y_pred_estimated_knn = model_knn.predict(Xpred_lr)\n",
    "predictions_knn['TARGET_FLAG'] = y_pred_estimated_knn"
   ]
  },
  {
   "cell_type": "code",
   "execution_count": 93,
   "id": "private-confirmation",
   "metadata": {},
   "outputs": [
    {
     "data": {
      "text/html": [
       "<div>\n",
       "<style scoped>\n",
       "    .dataframe tbody tr th:only-of-type {\n",
       "        vertical-align: middle;\n",
       "    }\n",
       "\n",
       "    .dataframe tbody tr th {\n",
       "        vertical-align: top;\n",
       "    }\n",
       "\n",
       "    .dataframe thead th {\n",
       "        text-align: right;\n",
       "    }\n",
       "</style>\n",
       "<table border=\"1\" class=\"dataframe\">\n",
       "  <thead>\n",
       "    <tr style=\"text-align: right;\">\n",
       "      <th></th>\n",
       "      <th>TARGET_FLAG</th>\n",
       "      <th>KIDSDRIV</th>\n",
       "      <th>AGE</th>\n",
       "      <th>HOMEKIDS</th>\n",
       "      <th>YOJ</th>\n",
       "      <th>INCOME</th>\n",
       "      <th>PARENT1</th>\n",
       "      <th>HOME_VAL</th>\n",
       "      <th>MSTATUS</th>\n",
       "      <th>SEX</th>\n",
       "      <th>...</th>\n",
       "      <th>BLUEBOOK</th>\n",
       "      <th>TIF</th>\n",
       "      <th>CAR_TYPE</th>\n",
       "      <th>RED_CAR</th>\n",
       "      <th>OLDCLAIM</th>\n",
       "      <th>CLM_FREQ</th>\n",
       "      <th>REVOKED</th>\n",
       "      <th>MVR_PTS</th>\n",
       "      <th>CAR_AGE</th>\n",
       "      <th>URBANICITY</th>\n",
       "    </tr>\n",
       "  </thead>\n",
       "  <tbody>\n",
       "    <tr>\n",
       "      <th>0</th>\n",
       "      <td>0</td>\n",
       "      <td>0</td>\n",
       "      <td>48.0</td>\n",
       "      <td>0</td>\n",
       "      <td>11.0</td>\n",
       "      <td>52.881</td>\n",
       "      <td>No</td>\n",
       "      <td>0.0</td>\n",
       "      <td>z_No</td>\n",
       "      <td>M</td>\n",
       "      <td>...</td>\n",
       "      <td>21.97</td>\n",
       "      <td>1</td>\n",
       "      <td>Van</td>\n",
       "      <td>yes</td>\n",
       "      <td>0.000</td>\n",
       "      <td>0</td>\n",
       "      <td>No</td>\n",
       "      <td>2</td>\n",
       "      <td>10.0</td>\n",
       "      <td>Highly Urban/ Urban</td>\n",
       "    </tr>\n",
       "    <tr>\n",
       "      <th>1</th>\n",
       "      <td>1</td>\n",
       "      <td>1</td>\n",
       "      <td>40.0</td>\n",
       "      <td>1</td>\n",
       "      <td>11.0</td>\n",
       "      <td>50.815</td>\n",
       "      <td>Yes</td>\n",
       "      <td>0.0</td>\n",
       "      <td>z_No</td>\n",
       "      <td>M</td>\n",
       "      <td>...</td>\n",
       "      <td>18.93</td>\n",
       "      <td>6</td>\n",
       "      <td>Minivan</td>\n",
       "      <td>no</td>\n",
       "      <td>3.295</td>\n",
       "      <td>1</td>\n",
       "      <td>No</td>\n",
       "      <td>2</td>\n",
       "      <td>1.0</td>\n",
       "      <td>Highly Urban/ Urban</td>\n",
       "    </tr>\n",
       "    <tr>\n",
       "      <th>2</th>\n",
       "      <td>0</td>\n",
       "      <td>0</td>\n",
       "      <td>44.0</td>\n",
       "      <td>2</td>\n",
       "      <td>12.0</td>\n",
       "      <td>43.486</td>\n",
       "      <td>Yes</td>\n",
       "      <td>0.0</td>\n",
       "      <td>z_No</td>\n",
       "      <td>z_F</td>\n",
       "      <td>...</td>\n",
       "      <td>5.90</td>\n",
       "      <td>10</td>\n",
       "      <td>z_SUV</td>\n",
       "      <td>no</td>\n",
       "      <td>0.000</td>\n",
       "      <td>0</td>\n",
       "      <td>No</td>\n",
       "      <td>0</td>\n",
       "      <td>10.0</td>\n",
       "      <td>z_Highly Rural/ Rural</td>\n",
       "    </tr>\n",
       "    <tr>\n",
       "      <th>3</th>\n",
       "      <td>0</td>\n",
       "      <td>0</td>\n",
       "      <td>35.0</td>\n",
       "      <td>2</td>\n",
       "      <td>NaN</td>\n",
       "      <td>21.204</td>\n",
       "      <td>Yes</td>\n",
       "      <td>0.0</td>\n",
       "      <td>z_No</td>\n",
       "      <td>M</td>\n",
       "      <td>...</td>\n",
       "      <td>9.23</td>\n",
       "      <td>6</td>\n",
       "      <td>Pickup</td>\n",
       "      <td>no</td>\n",
       "      <td>0.000</td>\n",
       "      <td>0</td>\n",
       "      <td>Yes</td>\n",
       "      <td>0</td>\n",
       "      <td>4.0</td>\n",
       "      <td>z_Highly Rural/ Rural</td>\n",
       "    </tr>\n",
       "    <tr>\n",
       "      <th>4</th>\n",
       "      <td>0</td>\n",
       "      <td>0</td>\n",
       "      <td>59.0</td>\n",
       "      <td>0</td>\n",
       "      <td>12.0</td>\n",
       "      <td>87.460</td>\n",
       "      <td>No</td>\n",
       "      <td>0.0</td>\n",
       "      <td>z_No</td>\n",
       "      <td>M</td>\n",
       "      <td>...</td>\n",
       "      <td>15.42</td>\n",
       "      <td>1</td>\n",
       "      <td>Minivan</td>\n",
       "      <td>yes</td>\n",
       "      <td>44.857</td>\n",
       "      <td>2</td>\n",
       "      <td>No</td>\n",
       "      <td>4</td>\n",
       "      <td>1.0</td>\n",
       "      <td>Highly Urban/ Urban</td>\n",
       "    </tr>\n",
       "  </tbody>\n",
       "</table>\n",
       "<p>5 rows × 24 columns</p>\n",
       "</div>"
      ],
      "text/plain": [
       "   TARGET_FLAG  KIDSDRIV   AGE  HOMEKIDS   YOJ  INCOME PARENT1  HOME_VAL  \\\n",
       "0            0         0  48.0         0  11.0  52.881      No       0.0   \n",
       "1            1         1  40.0         1  11.0  50.815     Yes       0.0   \n",
       "2            0         0  44.0         2  12.0  43.486     Yes       0.0   \n",
       "3            0         0  35.0         2   NaN  21.204     Yes       0.0   \n",
       "4            0         0  59.0         0  12.0  87.460      No       0.0   \n",
       "\n",
       "  MSTATUS  SEX  ... BLUEBOOK TIF  CAR_TYPE RED_CAR  OLDCLAIM  CLM_FREQ  \\\n",
       "0    z_No    M  ...    21.97   1       Van     yes     0.000         0   \n",
       "1    z_No    M  ...    18.93   6   Minivan      no     3.295         1   \n",
       "2    z_No  z_F  ...     5.90  10     z_SUV      no     0.000         0   \n",
       "3    z_No    M  ...     9.23   6    Pickup      no     0.000         0   \n",
       "4    z_No    M  ...    15.42   1   Minivan     yes    44.857         2   \n",
       "\n",
       "  REVOKED MVR_PTS  CAR_AGE             URBANICITY  \n",
       "0      No       2     10.0    Highly Urban/ Urban  \n",
       "1      No       2      1.0    Highly Urban/ Urban  \n",
       "2      No       0     10.0  z_Highly Rural/ Rural  \n",
       "3     Yes       0      4.0  z_Highly Rural/ Rural  \n",
       "4      No       4      1.0    Highly Urban/ Urban  \n",
       "\n",
       "[5 rows x 24 columns]"
      ]
     },
     "execution_count": 93,
     "metadata": {},
     "output_type": "execute_result"
    }
   ],
   "source": [
    "predictions_knn.head()"
   ]
  },
  {
   "cell_type": "code",
   "execution_count": 99,
   "id": "collect-hampton",
   "metadata": {},
   "outputs": [],
   "source": [
    "#predictions_knn.to_csv(r'C:\\Users\\Alexandre\\Documents\\DU\\csv\\knn_predictions.csv', index = False)"
   ]
  },
  {
   "cell_type": "markdown",
   "id": "worthy-butler",
   "metadata": {},
   "source": [
    "### Roc Curve"
   ]
  },
  {
   "cell_type": "code",
   "execution_count": 94,
   "id": "embedded-theater",
   "metadata": {},
   "outputs": [],
   "source": [
    "probs_knn = model_knn.predict_proba(Xtest_lr)\n",
    "# keep probabilities for the positive outcome only\n",
    "probs_knn = probs_knn[:,1]"
   ]
  },
  {
   "cell_type": "code",
   "execution_count": 95,
   "id": "needed-terrorist",
   "metadata": {},
   "outputs": [],
   "source": [
    "#calculating score\n",
    "knn_auc = roc_auc_score(ytest_lr, probs_knn)"
   ]
  },
  {
   "cell_type": "code",
   "execution_count": 96,
   "id": "taken-sheep",
   "metadata": {},
   "outputs": [
    {
     "name": "stdout",
     "output_type": "stream",
     "text": [
      "K-NN: ROC AUC= 0.7088002636783124\n"
     ]
    }
   ],
   "source": [
    "#summarizing the score\n",
    "print('K-NN: ROC AUC=', (knn_auc))"
   ]
  },
  {
   "cell_type": "code",
   "execution_count": 97,
   "id": "overhead-infrastructure",
   "metadata": {},
   "outputs": [],
   "source": [
    "# roc curve\n",
    "knn_fpr, knn_tpr, _ = roc_curve(ytest_lr, probs_knn)"
   ]
  },
  {
   "cell_type": "code",
   "execution_count": 98,
   "id": "super-technician",
   "metadata": {},
   "outputs": [
    {
     "data": {
      "text/plain": [
       "Text(0, 0.5, 'True Positive Rate')"
      ]
     },
     "execution_count": 98,
     "metadata": {},
     "output_type": "execute_result"
    },
    {
     "data": {
      "image/png": "[encoded data removed]",
      "text/plain": [
       "<Figure size 432x288 with 1 Axes>"
      ]
     },
     "metadata": {
      "needs_background": "light"
     },
     "output_type": "display_data"
    }
   ],
   "source": [
    "plt.plot(tree_fpr, tree_tpr, marker='.', label='Decision Tree')\n",
    "plt.plot(log_reg_fpr, log_reg_tpr, marker='.', label='Log_reg')\n",
    "plt.plot(knn_fpr, knn_tpr, marker='.', label='K-NN')\n",
    "plt.legend(bbox_to_anchor=(1.05, 1), loc='upper left', borderaxespad=0.)\n",
    "plt.xlabel('False Positive Rate')\n",
    "plt.ylabel('True Positive Rate')"
   ]
  },
  {
   "cell_type": "markdown",
   "id": "collective-helicopter",
   "metadata": {},
   "source": [
    "# Conclusion\n",
    "\n",
    "The Logistic Regression seems to perform better than the two other algorithms implemented here (highest AUC)."
   ]
  },
  {
   "cell_type": "markdown",
   "id": "unusual-essay",
   "metadata": {},
   "source": [
    "# A couple concluding remarks\n",
    "1) We have not even mentionned feature selection for this algorithm (meaning each and every variable has been taken into account in our log_reg model) even though it is a major step when trying to fit a logistic model.\n",
    "2) We could have tried Random Forest, which is a collection of Decision Trees, or even SVM.\n"
   ]
  }
 ],
 "metadata": {
  "kernelspec": {
   "display_name": "Python 3",
   "language": "python",
   "name": "python3"
  },
  "language_info": {
   "codemirror_mode": {
    "name": "ipython",
    "version": 3
   },
   "file_extension": ".py",
   "mimetype": "text/x-python",
   "name": "python",
   "nbconvert_exporter": "python",
   "pygments_lexer": "ipython3",
   "version": "3.9.1"
  }
 },
 "nbformat": 4,
 "nbformat_minor": 5
}
